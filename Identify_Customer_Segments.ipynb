{
 "cells": [
  {
   "cell_type": "markdown",
   "metadata": {},
   "source": [
    "# Project: Identify Customer Segments\n",
    "\n",
    "In this project, you will apply unsupervised learning techniques to identify segments of the population that form the core customer base for a mail-order sales company in Germany. These segments can then be used to direct marketing campaigns towards audiences that will have the highest expected rate of returns. The data that you will use has been provided by our partners at Bertelsmann Arvato Analytics, and represents a real-life data science task.\n",
    "\n",
    "This notebook will help you complete this task by providing a framework within which you will perform your analysis steps. In each step of the project, you will see some text describing the subtask that you will perform, followed by one or more code cells for you to complete your work. **Feel free to add additional code and markdown cells as you go along so that you can explore everything in precise chunks.** The code cells provided in the base template will outline only the major tasks, and will usually not be enough to cover all of the minor tasks that comprise it.\n",
    "\n",
    "It should be noted that while there will be precise guidelines on how you should handle certain tasks in the project, there will also be places where an exact specification is not provided. **There will be times in the project where you will need to make and justify your own decisions on how to treat the data.** These are places where there may not be only one way to handle the data. In real-life tasks, there may be many valid ways to approach an analysis task. One of the most important things you can do is clearly document your approach so that other scientists can understand the decisions you've made.\n",
    "\n",
    "At the end of most sections, there will be a Markdown cell labeled **Discussion**. In these cells, you will report your findings for the completed section, as well as document the decisions that you made in your approach to each subtask. **Your project will be evaluated not just on the code used to complete the tasks outlined, but also your communication about your observations and conclusions at each stage.**"
   ]
  },
  {
   "cell_type": "code",
   "execution_count": 1,
   "metadata": {},
   "outputs": [],
   "source": [
    "# import libraries here; add more as necessary\n",
    "import numpy as np\n",
    "import pandas as pd\n",
    "import matplotlib.pyplot as plt\n",
    "import seaborn as sns\n",
    "from sklearn.preprocessing import StandardScaler, Imputer\n",
    "from sklearn.decomposition import PCA\n",
    "from sklearn.cluster import KMeans\n",
    "\n",
    "# magic word for producing visualizations in notebook\n",
    "%matplotlib inline"
   ]
  },
  {
   "cell_type": "markdown",
   "metadata": {},
   "source": [
    "### Step 0: Load the Data\n",
    "\n",
    "There are four files associated with this project (not including this one):\n",
    "\n",
    "- `Udacity_AZDIAS_Subset.csv`: Demographics data for the general population of Germany; 891211 persons (rows) x 85 features (columns).\n",
    "- `Udacity_CUSTOMERS_Subset.csv`: Demographics data for customers of a mail-order company; 191652 persons (rows) x 85 features (columns).\n",
    "- `Data_Dictionary.md`: Detailed information file about the features in the provided datasets.\n",
    "- `AZDIAS_Feature_Summary.csv`: Summary of feature attributes for demographics data; 85 features (rows) x 4 columns\n",
    "\n",
    "Each row of the demographics files represents a single person, but also includes information outside of individuals, including information about their household, building, and neighborhood. You will use this information to cluster the general population into groups with similar demographic properties. Then, you will see how the people in the customers dataset fit into those created clusters. The hope here is that certain clusters are over-represented in the customers data, as compared to the general population; those over-represented clusters will be assumed to be part of the core userbase. This information can then be used for further applications, such as targeting for a marketing campaign.\n",
    "\n",
    "To start off with, load in the demographics data for the general population into a pandas DataFrame, and do the same for the feature attributes summary. Note for all of the `.csv` data files in this project: they're semicolon (`;`) delimited, so you'll need an additional argument in your [`read_csv()`](https://pandas.pydata.org/pandas-docs/stable/generated/pandas.read_csv.html) call to read in the data properly. Also, considering the size of the main dataset, it may take some time for it to load completely.\n",
    "\n",
    "Once the dataset is loaded, it's recommended that you take a little bit of time just browsing the general structure of the dataset and feature summary file. You'll be getting deep into the innards of the cleaning in the first major step of the project, so gaining some general familiarity can help you get your bearings."
   ]
  },
  {
   "cell_type": "code",
   "execution_count": 2,
   "metadata": {},
   "outputs": [],
   "source": [
    "# Load in the general demographics data.\n",
    "azdias = pd.read_csv('Udacity_AZDIAS_Subset.csv', sep=';')\n",
    "\n",
    "# Load in the feature summary file.\n",
    "feat_info = pd.read_table('AZDIAS_Feature_Summary.csv',sep=';')"
   ]
  },
  {
   "cell_type": "code",
   "execution_count": 3,
   "metadata": {},
   "outputs": [
    {
     "name": "stdout",
     "output_type": "stream",
     "text": [
      "The number of rows in the demographics dataset is 891221\n",
      "The number of columns in the demographics dataset is 85\n",
      "The number of rows in the feature summary dataset is 85\n",
      "The number of columns in the feature summary dataset is 4\n"
     ]
    }
   ],
   "source": [
    "# Check the structure of the data after it's loaded (e.g. print the number of\n",
    "# rows and columns, print the first few rows).\n",
    "\n",
    "print(\"The number of rows in the demographics dataset is\",azdias.shape[0])\n",
    "print(\"The number of columns in the demographics dataset is\",azdias.shape[1])\n",
    "print(\"The number of rows in the feature summary dataset is\",feat_info.shape[0])\n",
    "print(\"The number of columns in the feature summary dataset is\",feat_info.shape[1])"
   ]
  },
  {
   "cell_type": "code",
   "execution_count": 4,
   "metadata": {},
   "outputs": [
    {
     "data": {
      "text/html": [
       "<div>\n",
       "<style scoped>\n",
       "    .dataframe tbody tr th:only-of-type {\n",
       "        vertical-align: middle;\n",
       "    }\n",
       "\n",
       "    .dataframe tbody tr th {\n",
       "        vertical-align: top;\n",
       "    }\n",
       "\n",
       "    .dataframe thead th {\n",
       "        text-align: right;\n",
       "    }\n",
       "</style>\n",
       "<table border=\"1\" class=\"dataframe\">\n",
       "  <thead>\n",
       "    <tr style=\"text-align: right;\">\n",
       "      <th></th>\n",
       "      <th>AGER_TYP</th>\n",
       "      <th>ALTERSKATEGORIE_GROB</th>\n",
       "      <th>ANREDE_KZ</th>\n",
       "      <th>CJT_GESAMTTYP</th>\n",
       "      <th>FINANZ_MINIMALIST</th>\n",
       "      <th>FINANZ_SPARER</th>\n",
       "      <th>FINANZ_VORSORGER</th>\n",
       "      <th>FINANZ_ANLEGER</th>\n",
       "      <th>FINANZ_UNAUFFAELLIGER</th>\n",
       "      <th>FINANZ_HAUSBAUER</th>\n",
       "      <th>...</th>\n",
       "      <th>PLZ8_ANTG1</th>\n",
       "      <th>PLZ8_ANTG2</th>\n",
       "      <th>PLZ8_ANTG3</th>\n",
       "      <th>PLZ8_ANTG4</th>\n",
       "      <th>PLZ8_BAUMAX</th>\n",
       "      <th>PLZ8_HHZ</th>\n",
       "      <th>PLZ8_GBZ</th>\n",
       "      <th>ARBEIT</th>\n",
       "      <th>ORTSGR_KLS9</th>\n",
       "      <th>RELAT_AB</th>\n",
       "    </tr>\n",
       "  </thead>\n",
       "  <tbody>\n",
       "    <tr>\n",
       "      <th>0</th>\n",
       "      <td>-1</td>\n",
       "      <td>2</td>\n",
       "      <td>1</td>\n",
       "      <td>2.0</td>\n",
       "      <td>3</td>\n",
       "      <td>4</td>\n",
       "      <td>3</td>\n",
       "      <td>5</td>\n",
       "      <td>5</td>\n",
       "      <td>3</td>\n",
       "      <td>...</td>\n",
       "      <td>NaN</td>\n",
       "      <td>NaN</td>\n",
       "      <td>NaN</td>\n",
       "      <td>NaN</td>\n",
       "      <td>NaN</td>\n",
       "      <td>NaN</td>\n",
       "      <td>NaN</td>\n",
       "      <td>NaN</td>\n",
       "      <td>NaN</td>\n",
       "      <td>NaN</td>\n",
       "    </tr>\n",
       "    <tr>\n",
       "      <th>1</th>\n",
       "      <td>-1</td>\n",
       "      <td>1</td>\n",
       "      <td>2</td>\n",
       "      <td>5.0</td>\n",
       "      <td>1</td>\n",
       "      <td>5</td>\n",
       "      <td>2</td>\n",
       "      <td>5</td>\n",
       "      <td>4</td>\n",
       "      <td>5</td>\n",
       "      <td>...</td>\n",
       "      <td>2.0</td>\n",
       "      <td>3.0</td>\n",
       "      <td>2.0</td>\n",
       "      <td>1.0</td>\n",
       "      <td>1.0</td>\n",
       "      <td>5.0</td>\n",
       "      <td>4.0</td>\n",
       "      <td>3.0</td>\n",
       "      <td>5.0</td>\n",
       "      <td>4.0</td>\n",
       "    </tr>\n",
       "    <tr>\n",
       "      <th>2</th>\n",
       "      <td>-1</td>\n",
       "      <td>3</td>\n",
       "      <td>2</td>\n",
       "      <td>3.0</td>\n",
       "      <td>1</td>\n",
       "      <td>4</td>\n",
       "      <td>1</td>\n",
       "      <td>2</td>\n",
       "      <td>3</td>\n",
       "      <td>5</td>\n",
       "      <td>...</td>\n",
       "      <td>3.0</td>\n",
       "      <td>3.0</td>\n",
       "      <td>1.0</td>\n",
       "      <td>0.0</td>\n",
       "      <td>1.0</td>\n",
       "      <td>4.0</td>\n",
       "      <td>4.0</td>\n",
       "      <td>3.0</td>\n",
       "      <td>5.0</td>\n",
       "      <td>2.0</td>\n",
       "    </tr>\n",
       "    <tr>\n",
       "      <th>3</th>\n",
       "      <td>2</td>\n",
       "      <td>4</td>\n",
       "      <td>2</td>\n",
       "      <td>2.0</td>\n",
       "      <td>4</td>\n",
       "      <td>2</td>\n",
       "      <td>5</td>\n",
       "      <td>2</td>\n",
       "      <td>1</td>\n",
       "      <td>2</td>\n",
       "      <td>...</td>\n",
       "      <td>2.0</td>\n",
       "      <td>2.0</td>\n",
       "      <td>2.0</td>\n",
       "      <td>0.0</td>\n",
       "      <td>1.0</td>\n",
       "      <td>3.0</td>\n",
       "      <td>4.0</td>\n",
       "      <td>2.0</td>\n",
       "      <td>3.0</td>\n",
       "      <td>3.0</td>\n",
       "    </tr>\n",
       "    <tr>\n",
       "      <th>4</th>\n",
       "      <td>-1</td>\n",
       "      <td>3</td>\n",
       "      <td>1</td>\n",
       "      <td>5.0</td>\n",
       "      <td>4</td>\n",
       "      <td>3</td>\n",
       "      <td>4</td>\n",
       "      <td>1</td>\n",
       "      <td>3</td>\n",
       "      <td>2</td>\n",
       "      <td>...</td>\n",
       "      <td>2.0</td>\n",
       "      <td>4.0</td>\n",
       "      <td>2.0</td>\n",
       "      <td>1.0</td>\n",
       "      <td>2.0</td>\n",
       "      <td>3.0</td>\n",
       "      <td>3.0</td>\n",
       "      <td>4.0</td>\n",
       "      <td>6.0</td>\n",
       "      <td>5.0</td>\n",
       "    </tr>\n",
       "  </tbody>\n",
       "</table>\n",
       "<p>5 rows × 85 columns</p>\n",
       "</div>"
      ],
      "text/plain": [
       "   AGER_TYP  ALTERSKATEGORIE_GROB  ANREDE_KZ  CJT_GESAMTTYP  \\\n",
       "0        -1                     2          1            2.0   \n",
       "1        -1                     1          2            5.0   \n",
       "2        -1                     3          2            3.0   \n",
       "3         2                     4          2            2.0   \n",
       "4        -1                     3          1            5.0   \n",
       "\n",
       "   FINANZ_MINIMALIST  FINANZ_SPARER  FINANZ_VORSORGER  FINANZ_ANLEGER  \\\n",
       "0                  3              4                 3               5   \n",
       "1                  1              5                 2               5   \n",
       "2                  1              4                 1               2   \n",
       "3                  4              2                 5               2   \n",
       "4                  4              3                 4               1   \n",
       "\n",
       "   FINANZ_UNAUFFAELLIGER  FINANZ_HAUSBAUER    ...     PLZ8_ANTG1  PLZ8_ANTG2  \\\n",
       "0                      5                 3    ...            NaN         NaN   \n",
       "1                      4                 5    ...            2.0         3.0   \n",
       "2                      3                 5    ...            3.0         3.0   \n",
       "3                      1                 2    ...            2.0         2.0   \n",
       "4                      3                 2    ...            2.0         4.0   \n",
       "\n",
       "   PLZ8_ANTG3  PLZ8_ANTG4  PLZ8_BAUMAX  PLZ8_HHZ  PLZ8_GBZ  ARBEIT  \\\n",
       "0         NaN         NaN          NaN       NaN       NaN     NaN   \n",
       "1         2.0         1.0          1.0       5.0       4.0     3.0   \n",
       "2         1.0         0.0          1.0       4.0       4.0     3.0   \n",
       "3         2.0         0.0          1.0       3.0       4.0     2.0   \n",
       "4         2.0         1.0          2.0       3.0       3.0     4.0   \n",
       "\n",
       "   ORTSGR_KLS9  RELAT_AB  \n",
       "0          NaN       NaN  \n",
       "1          5.0       4.0  \n",
       "2          5.0       2.0  \n",
       "3          3.0       3.0  \n",
       "4          6.0       5.0  \n",
       "\n",
       "[5 rows x 85 columns]"
      ]
     },
     "execution_count": 4,
     "metadata": {},
     "output_type": "execute_result"
    }
   ],
   "source": [
    "azdias.head()"
   ]
  },
  {
   "cell_type": "code",
   "execution_count": 5,
   "metadata": {},
   "outputs": [
    {
     "data": {
      "text/html": [
       "<div>\n",
       "<style scoped>\n",
       "    .dataframe tbody tr th:only-of-type {\n",
       "        vertical-align: middle;\n",
       "    }\n",
       "\n",
       "    .dataframe tbody tr th {\n",
       "        vertical-align: top;\n",
       "    }\n",
       "\n",
       "    .dataframe thead th {\n",
       "        text-align: right;\n",
       "    }\n",
       "</style>\n",
       "<table border=\"1\" class=\"dataframe\">\n",
       "  <thead>\n",
       "    <tr style=\"text-align: right;\">\n",
       "      <th></th>\n",
       "      <th>attribute</th>\n",
       "      <th>information_level</th>\n",
       "      <th>type</th>\n",
       "      <th>missing_or_unknown</th>\n",
       "    </tr>\n",
       "  </thead>\n",
       "  <tbody>\n",
       "    <tr>\n",
       "      <th>0</th>\n",
       "      <td>AGER_TYP</td>\n",
       "      <td>person</td>\n",
       "      <td>categorical</td>\n",
       "      <td>[-1,0]</td>\n",
       "    </tr>\n",
       "    <tr>\n",
       "      <th>1</th>\n",
       "      <td>ALTERSKATEGORIE_GROB</td>\n",
       "      <td>person</td>\n",
       "      <td>ordinal</td>\n",
       "      <td>[-1,0,9]</td>\n",
       "    </tr>\n",
       "    <tr>\n",
       "      <th>2</th>\n",
       "      <td>ANREDE_KZ</td>\n",
       "      <td>person</td>\n",
       "      <td>categorical</td>\n",
       "      <td>[-1,0]</td>\n",
       "    </tr>\n",
       "    <tr>\n",
       "      <th>3</th>\n",
       "      <td>CJT_GESAMTTYP</td>\n",
       "      <td>person</td>\n",
       "      <td>categorical</td>\n",
       "      <td>[0]</td>\n",
       "    </tr>\n",
       "    <tr>\n",
       "      <th>4</th>\n",
       "      <td>FINANZ_MINIMALIST</td>\n",
       "      <td>person</td>\n",
       "      <td>ordinal</td>\n",
       "      <td>[-1]</td>\n",
       "    </tr>\n",
       "  </tbody>\n",
       "</table>\n",
       "</div>"
      ],
      "text/plain": [
       "              attribute information_level         type missing_or_unknown\n",
       "0              AGER_TYP            person  categorical             [-1,0]\n",
       "1  ALTERSKATEGORIE_GROB            person      ordinal           [-1,0,9]\n",
       "2             ANREDE_KZ            person  categorical             [-1,0]\n",
       "3         CJT_GESAMTTYP            person  categorical                [0]\n",
       "4     FINANZ_MINIMALIST            person      ordinal               [-1]"
      ]
     },
     "execution_count": 5,
     "metadata": {},
     "output_type": "execute_result"
    }
   ],
   "source": [
    "feat_info.head()"
   ]
  },
  {
   "cell_type": "code",
   "execution_count": 6,
   "metadata": {},
   "outputs": [
    {
     "data": {
      "text/plain": [
       "AGER_TYP                      0\n",
       "ALTERSKATEGORIE_GROB          0\n",
       "ANREDE_KZ                     0\n",
       "CJT_GESAMTTYP              4854\n",
       "FINANZ_MINIMALIST             0\n",
       "FINANZ_SPARER                 0\n",
       "FINANZ_VORSORGER              0\n",
       "FINANZ_ANLEGER                0\n",
       "FINANZ_UNAUFFAELLIGER         0\n",
       "FINANZ_HAUSBAUER              0\n",
       "FINANZTYP                     0\n",
       "GEBURTSJAHR                   0\n",
       "GFK_URLAUBERTYP            4854\n",
       "GREEN_AVANTGARDE              0\n",
       "HEALTH_TYP                    0\n",
       "LP_LEBENSPHASE_FEIN        4854\n",
       "LP_LEBENSPHASE_GROB        4854\n",
       "LP_FAMILIE_FEIN            4854\n",
       "LP_FAMILIE_GROB            4854\n",
       "LP_STATUS_FEIN             4854\n",
       "LP_STATUS_GROB             4854\n",
       "NATIONALITAET_KZ              0\n",
       "PRAEGENDE_JUGENDJAHRE         0\n",
       "RETOURTYP_BK_S             4854\n",
       "SEMIO_SOZ                     0\n",
       "SEMIO_FAM                     0\n",
       "SEMIO_REL                     0\n",
       "SEMIO_MAT                     0\n",
       "SEMIO_VERT                    0\n",
       "SEMIO_LUST                    0\n",
       "                          ...  \n",
       "OST_WEST_KZ               93148\n",
       "WOHNLAGE                  93148\n",
       "CAMEO_DEUG_2015           98979\n",
       "CAMEO_DEU_2015            98979\n",
       "CAMEO_INTL_2015           98979\n",
       "KBA05_ANTG1              133324\n",
       "KBA05_ANTG2              133324\n",
       "KBA05_ANTG3              133324\n",
       "KBA05_ANTG4              133324\n",
       "KBA05_BAUMAX             133324\n",
       "KBA05_GBZ                133324\n",
       "BALLRAUM                  93740\n",
       "EWDICHTE                  93740\n",
       "INNENSTADT                93740\n",
       "GEBAEUDETYP_RASTER        93155\n",
       "KKK                      121196\n",
       "MOBI_REGIO               133324\n",
       "ONLINE_AFFINITAET          4854\n",
       "REGIOTYP                 121196\n",
       "KBA13_ANZAHL_PKW         105800\n",
       "PLZ8_ANTG1               116515\n",
       "PLZ8_ANTG2               116515\n",
       "PLZ8_ANTG3               116515\n",
       "PLZ8_ANTG4               116515\n",
       "PLZ8_BAUMAX              116515\n",
       "PLZ8_HHZ                 116515\n",
       "PLZ8_GBZ                 116515\n",
       "ARBEIT                    97216\n",
       "ORTSGR_KLS9               97216\n",
       "RELAT_AB                  97216\n",
       "Length: 85, dtype: int64"
      ]
     },
     "execution_count": 6,
     "metadata": {},
     "output_type": "execute_result"
    }
   ],
   "source": [
    "azdias.isnull().sum()"
   ]
  },
  {
   "cell_type": "code",
   "execution_count": 7,
   "metadata": {},
   "outputs": [
    {
     "name": "stdout",
     "output_type": "stream",
     "text": [
      "<class 'pandas.core.frame.DataFrame'>\n",
      "RangeIndex: 85 entries, 0 to 84\n",
      "Data columns (total 4 columns):\n",
      "attribute             85 non-null object\n",
      "information_level     85 non-null object\n",
      "type                  85 non-null object\n",
      "missing_or_unknown    85 non-null object\n",
      "dtypes: object(4)\n",
      "memory usage: 2.7+ KB\n"
     ]
    }
   ],
   "source": [
    "feat_info.info()"
   ]
  },
  {
   "cell_type": "markdown",
   "metadata": {},
   "source": [
    "> **Tip**: Add additional cells to keep everything in reasonably-sized chunks! Keyboard shortcut `esc --> a` (press escape to enter command mode, then press the 'A' key) adds a new cell before the active cell, and `esc --> b` adds a new cell after the active cell. If you need to convert an active cell to a markdown cell, use `esc --> m` and to convert to a code cell, use `esc --> y`. \n",
    "\n",
    "## Step 1: Preprocessing\n",
    "\n",
    "### Step 1.1: Assess Missing Data\n",
    "\n",
    "The feature summary file contains a summary of properties for each demographics data column. You will use this file to help you make cleaning decisions during this stage of the project. First of all, you should assess the demographics data in terms of missing data. Pay attention to the following points as you perform your analysis, and take notes on what you observe. Make sure that you fill in the **Discussion** cell with your findings and decisions at the end of each step that has one!\n",
    "\n",
    "#### Step 1.1.1: Convert Missing Value Codes to NaNs\n",
    "The fourth column of the feature attributes summary (loaded in above as `feat_info`) documents the codes from the data dictionary that indicate missing or unknown data. While the file encodes this as a list (e.g. `[-1,0]`), this will get read in as a string object. You'll need to do a little bit of parsing to make use of it to identify and clean the data. Convert data that matches a 'missing' or 'unknown' value code into a numpy NaN value. You might want to see how much data takes on a 'missing' or 'unknown' code, and how much data is naturally missing, as a point of interest.\n",
    "\n",
    "**As one more reminder, you are encouraged to add additional cells to break up your analysis into manageable chunks.**"
   ]
  },
  {
   "cell_type": "code",
   "execution_count": 8,
   "metadata": {},
   "outputs": [],
   "source": [
    "for i in range(len(feat_info)):\n",
    "    missing_val = feat_info.iloc[i]['missing_or_unknown']\n",
    "    missing_val = ((missing_val.strip('[')).strip(']')).split(sep=',')\n",
    "    missing_val = [int(val) if (val!='X' and val!='XX' and val!='') else val for val in missing_val]\n",
    "    if missing_val != ['']:\n",
    "        azdias = azdias.replace({feat_info.iloc[i]['attribute']: missing_val}, np.nan)"
   ]
  },
  {
   "cell_type": "code",
   "execution_count": 9,
   "metadata": {},
   "outputs": [],
   "source": [
    "for col in azdias.columns:\n",
    "        azdias = azdias.replace({col: ['XX', 'X']}, np.nan)"
   ]
  },
  {
   "cell_type": "code",
   "execution_count": 10,
   "metadata": {
    "scrolled": true
   },
   "outputs": [
    {
     "data": {
      "text/html": [
       "<div>\n",
       "<style scoped>\n",
       "    .dataframe tbody tr th:only-of-type {\n",
       "        vertical-align: middle;\n",
       "    }\n",
       "\n",
       "    .dataframe tbody tr th {\n",
       "        vertical-align: top;\n",
       "    }\n",
       "\n",
       "    .dataframe thead th {\n",
       "        text-align: right;\n",
       "    }\n",
       "</style>\n",
       "<table border=\"1\" class=\"dataframe\">\n",
       "  <thead>\n",
       "    <tr style=\"text-align: right;\">\n",
       "      <th></th>\n",
       "      <th>AGER_TYP</th>\n",
       "      <th>ALTERSKATEGORIE_GROB</th>\n",
       "      <th>ANREDE_KZ</th>\n",
       "      <th>CJT_GESAMTTYP</th>\n",
       "      <th>FINANZ_MINIMALIST</th>\n",
       "      <th>FINANZ_SPARER</th>\n",
       "      <th>FINANZ_VORSORGER</th>\n",
       "      <th>FINANZ_ANLEGER</th>\n",
       "      <th>FINANZ_UNAUFFAELLIGER</th>\n",
       "      <th>FINANZ_HAUSBAUER</th>\n",
       "      <th>...</th>\n",
       "      <th>PLZ8_ANTG1</th>\n",
       "      <th>PLZ8_ANTG2</th>\n",
       "      <th>PLZ8_ANTG3</th>\n",
       "      <th>PLZ8_ANTG4</th>\n",
       "      <th>PLZ8_BAUMAX</th>\n",
       "      <th>PLZ8_HHZ</th>\n",
       "      <th>PLZ8_GBZ</th>\n",
       "      <th>ARBEIT</th>\n",
       "      <th>ORTSGR_KLS9</th>\n",
       "      <th>RELAT_AB</th>\n",
       "    </tr>\n",
       "  </thead>\n",
       "  <tbody>\n",
       "    <tr>\n",
       "      <th>0</th>\n",
       "      <td>NaN</td>\n",
       "      <td>2.0</td>\n",
       "      <td>1</td>\n",
       "      <td>2.0</td>\n",
       "      <td>3</td>\n",
       "      <td>4</td>\n",
       "      <td>3</td>\n",
       "      <td>5</td>\n",
       "      <td>5</td>\n",
       "      <td>3</td>\n",
       "      <td>...</td>\n",
       "      <td>NaN</td>\n",
       "      <td>NaN</td>\n",
       "      <td>NaN</td>\n",
       "      <td>NaN</td>\n",
       "      <td>NaN</td>\n",
       "      <td>NaN</td>\n",
       "      <td>NaN</td>\n",
       "      <td>NaN</td>\n",
       "      <td>NaN</td>\n",
       "      <td>NaN</td>\n",
       "    </tr>\n",
       "    <tr>\n",
       "      <th>1</th>\n",
       "      <td>NaN</td>\n",
       "      <td>1.0</td>\n",
       "      <td>2</td>\n",
       "      <td>5.0</td>\n",
       "      <td>1</td>\n",
       "      <td>5</td>\n",
       "      <td>2</td>\n",
       "      <td>5</td>\n",
       "      <td>4</td>\n",
       "      <td>5</td>\n",
       "      <td>...</td>\n",
       "      <td>2.0</td>\n",
       "      <td>3.0</td>\n",
       "      <td>2.0</td>\n",
       "      <td>1.0</td>\n",
       "      <td>1.0</td>\n",
       "      <td>5.0</td>\n",
       "      <td>4.0</td>\n",
       "      <td>3.0</td>\n",
       "      <td>5.0</td>\n",
       "      <td>4.0</td>\n",
       "    </tr>\n",
       "    <tr>\n",
       "      <th>2</th>\n",
       "      <td>NaN</td>\n",
       "      <td>3.0</td>\n",
       "      <td>2</td>\n",
       "      <td>3.0</td>\n",
       "      <td>1</td>\n",
       "      <td>4</td>\n",
       "      <td>1</td>\n",
       "      <td>2</td>\n",
       "      <td>3</td>\n",
       "      <td>5</td>\n",
       "      <td>...</td>\n",
       "      <td>3.0</td>\n",
       "      <td>3.0</td>\n",
       "      <td>1.0</td>\n",
       "      <td>0.0</td>\n",
       "      <td>1.0</td>\n",
       "      <td>4.0</td>\n",
       "      <td>4.0</td>\n",
       "      <td>3.0</td>\n",
       "      <td>5.0</td>\n",
       "      <td>2.0</td>\n",
       "    </tr>\n",
       "    <tr>\n",
       "      <th>3</th>\n",
       "      <td>2.0</td>\n",
       "      <td>4.0</td>\n",
       "      <td>2</td>\n",
       "      <td>2.0</td>\n",
       "      <td>4</td>\n",
       "      <td>2</td>\n",
       "      <td>5</td>\n",
       "      <td>2</td>\n",
       "      <td>1</td>\n",
       "      <td>2</td>\n",
       "      <td>...</td>\n",
       "      <td>2.0</td>\n",
       "      <td>2.0</td>\n",
       "      <td>2.0</td>\n",
       "      <td>0.0</td>\n",
       "      <td>1.0</td>\n",
       "      <td>3.0</td>\n",
       "      <td>4.0</td>\n",
       "      <td>2.0</td>\n",
       "      <td>3.0</td>\n",
       "      <td>3.0</td>\n",
       "    </tr>\n",
       "    <tr>\n",
       "      <th>4</th>\n",
       "      <td>NaN</td>\n",
       "      <td>3.0</td>\n",
       "      <td>1</td>\n",
       "      <td>5.0</td>\n",
       "      <td>4</td>\n",
       "      <td>3</td>\n",
       "      <td>4</td>\n",
       "      <td>1</td>\n",
       "      <td>3</td>\n",
       "      <td>2</td>\n",
       "      <td>...</td>\n",
       "      <td>2.0</td>\n",
       "      <td>4.0</td>\n",
       "      <td>2.0</td>\n",
       "      <td>1.0</td>\n",
       "      <td>2.0</td>\n",
       "      <td>3.0</td>\n",
       "      <td>3.0</td>\n",
       "      <td>4.0</td>\n",
       "      <td>6.0</td>\n",
       "      <td>5.0</td>\n",
       "    </tr>\n",
       "  </tbody>\n",
       "</table>\n",
       "<p>5 rows × 85 columns</p>\n",
       "</div>"
      ],
      "text/plain": [
       "   AGER_TYP  ALTERSKATEGORIE_GROB  ANREDE_KZ  CJT_GESAMTTYP  \\\n",
       "0       NaN                   2.0          1            2.0   \n",
       "1       NaN                   1.0          2            5.0   \n",
       "2       NaN                   3.0          2            3.0   \n",
       "3       2.0                   4.0          2            2.0   \n",
       "4       NaN                   3.0          1            5.0   \n",
       "\n",
       "   FINANZ_MINIMALIST  FINANZ_SPARER  FINANZ_VORSORGER  FINANZ_ANLEGER  \\\n",
       "0                  3              4                 3               5   \n",
       "1                  1              5                 2               5   \n",
       "2                  1              4                 1               2   \n",
       "3                  4              2                 5               2   \n",
       "4                  4              3                 4               1   \n",
       "\n",
       "   FINANZ_UNAUFFAELLIGER  FINANZ_HAUSBAUER    ...     PLZ8_ANTG1  PLZ8_ANTG2  \\\n",
       "0                      5                 3    ...            NaN         NaN   \n",
       "1                      4                 5    ...            2.0         3.0   \n",
       "2                      3                 5    ...            3.0         3.0   \n",
       "3                      1                 2    ...            2.0         2.0   \n",
       "4                      3                 2    ...            2.0         4.0   \n",
       "\n",
       "   PLZ8_ANTG3  PLZ8_ANTG4  PLZ8_BAUMAX  PLZ8_HHZ  PLZ8_GBZ  ARBEIT  \\\n",
       "0         NaN         NaN          NaN       NaN       NaN     NaN   \n",
       "1         2.0         1.0          1.0       5.0       4.0     3.0   \n",
       "2         1.0         0.0          1.0       4.0       4.0     3.0   \n",
       "3         2.0         0.0          1.0       3.0       4.0     2.0   \n",
       "4         2.0         1.0          2.0       3.0       3.0     4.0   \n",
       "\n",
       "   ORTSGR_KLS9  RELAT_AB  \n",
       "0          NaN       NaN  \n",
       "1          5.0       4.0  \n",
       "2          5.0       2.0  \n",
       "3          3.0       3.0  \n",
       "4          6.0       5.0  \n",
       "\n",
       "[5 rows x 85 columns]"
      ]
     },
     "execution_count": 10,
     "metadata": {},
     "output_type": "execute_result"
    }
   ],
   "source": [
    "azdias.head()"
   ]
  },
  {
   "cell_type": "markdown",
   "metadata": {},
   "source": [
    "#### Step 1.1.2: Assess Missing Data in Each Column\n",
    "\n",
    "How much missing data is present in each column? There are a few columns that are outliers in terms of the proportion of values that are missing. You will want to use matplotlib's [`hist()`](https://matplotlib.org/api/_as_gen/matplotlib.pyplot.hist.html) function to visualize the distribution of missing value counts to find these columns. Identify and document these columns. While some of these columns might have justifications for keeping or re-encoding the data, for this project you should just remove them from the dataframe. (Feel free to make remarks about these outlier columns in the discussion, however!)\n",
    "\n",
    "For the remaining features, are there any patterns in which columns have, or share, missing data?"
   ]
  },
  {
   "cell_type": "code",
   "execution_count": 11,
   "metadata": {},
   "outputs": [],
   "source": [
    "# Perform an assessment of how much missing data there is in each column of the\n",
    "# dataset.\n",
    "\n",
    "missing_data = azdias.isnull().sum()\n",
    "missing_data = (missing_data*100)/(azdias.shape[0])"
   ]
  },
  {
   "cell_type": "code",
   "execution_count": 12,
   "metadata": {},
   "outputs": [
    {
     "data": {
      "text/plain": [
       "TITEL_KZ                 99.757636\n",
       "AGER_TYP                 76.955435\n",
       "KK_KUNDENTYP             65.596749\n",
       "KBA05_BAUMAX             53.468668\n",
       "GEBURTSJAHR              44.020282\n",
       "ALTER_HH                 34.813699\n",
       "REGIOTYP                 17.735668\n",
       "KKK                      17.735668\n",
       "W_KEIT_KIND_HH           16.605084\n",
       "KBA05_ANTG4              14.959701\n",
       "KBA05_GBZ                14.959701\n",
       "MOBI_REGIO               14.959701\n",
       "KBA05_ANTG1              14.959701\n",
       "KBA05_ANTG2              14.959701\n",
       "KBA05_ANTG3              14.959701\n",
       "PLZ8_GBZ                 13.073637\n",
       "PLZ8_HHZ                 13.073637\n",
       "PLZ8_BAUMAX              13.073637\n",
       "PLZ8_ANTG4               13.073637\n",
       "PLZ8_ANTG1               13.073637\n",
       "PLZ8_ANTG3               13.073637\n",
       "PLZ8_ANTG2               13.073637\n",
       "SHOPPER_TYP              12.476816\n",
       "VERS_TYP                 12.476816\n",
       "HEALTH_TYP               12.476816\n",
       "NATIONALITAET_KZ         12.153551\n",
       "PRAEGENDE_JUGENDJAHRE    12.136608\n",
       "KBA13_ANZAHL_PKW         11.871354\n",
       "ANZ_HAUSHALTE_AKTIV      11.176913\n",
       "CAMEO_INTL_2015          11.147852\n",
       "                           ...    \n",
       "CAMEO_DEUG_2015          11.147852\n",
       "LP_LEBENSPHASE_FEIN      10.954859\n",
       "RELAT_AB                 10.926022\n",
       "ARBEIT                   10.926022\n",
       "ORTSGR_KLS9              10.914689\n",
       "ANZ_HH_TITEL             10.884842\n",
       "LP_LEBENSPHASE_GROB      10.611509\n",
       "INNENSTADT               10.518154\n",
       "BALLRAUM                 10.518154\n",
       "EWDICHTE                 10.518154\n",
       "GEBAEUDETYP_RASTER       10.452514\n",
       "MIN_GEBAEUDEJAHR         10.451729\n",
       "OST_WEST_KZ              10.451729\n",
       "WOHNLAGE                 10.451729\n",
       "GEBAEUDETYP              10.451729\n",
       "LP_FAMILIE_FEIN           8.728699\n",
       "LP_FAMILIE_GROB           8.728699\n",
       "KONSUMNAEHE               8.299737\n",
       "WOHNDAUER_2008            8.247000\n",
       "ANZ_TITEL                 8.247000\n",
       "SOHO_KZ                   8.247000\n",
       "ANZ_PERSONEN              8.247000\n",
       "HH_EINKOMMEN_SCORE        2.058749\n",
       "LP_STATUS_GROB            0.544646\n",
       "LP_STATUS_FEIN            0.544646\n",
       "RETOURTYP_BK_S            0.544646\n",
       "ONLINE_AFFINITAET         0.544646\n",
       "GFK_URLAUBERTYP           0.544646\n",
       "CJT_GESAMTTYP             0.544646\n",
       "ALTERSKATEGORIE_GROB      0.323264\n",
       "Length: 61, dtype: float64"
      ]
     },
     "execution_count": 12,
     "metadata": {},
     "output_type": "execute_result"
    }
   ],
   "source": [
    "missing_data = missing_data[missing_data>0]\n",
    "missing_data.sort_values(ascending=False,inplace=True)\n",
    "missing_data"
   ]
  },
  {
   "cell_type": "code",
   "execution_count": 13,
   "metadata": {},
   "outputs": [
    {
     "data": {
      "image/png": "[encoded data removed]",
      "text/plain": [
       "<matplotlib.figure.Figure at 0x7f3238c31e48>"
      ]
     },
     "metadata": {
      "needs_background": "light"
     },
     "output_type": "display_data"
    }
   ],
   "source": [
    "# Investigate patterns in the amount of missing data in each column.\n",
    "\n",
    "plt.hist(missing_data)\n",
    "plt.xlabel('percentage of missing data')\n",
    "plt.ylabel('Counts')\n",
    "plt.show()"
   ]
  },
  {
   "cell_type": "code",
   "execution_count": 14,
   "metadata": {
    "scrolled": true
   },
   "outputs": [
    {
     "data": {
      "text/plain": [
       "<matplotlib.axes._subplots.AxesSubplot at 0x7f323649a1d0>"
      ]
     },
     "execution_count": 14,
     "metadata": {},
     "output_type": "execute_result"
    },
    {
     "data": {
      "image/png": "[encoded data removed]",
      "text/plain": [
       "<matplotlib.figure.Figure at 0x7f3238cc0908>"
      ]
     },
     "metadata": {
      "needs_background": "light"
     },
     "output_type": "display_data"
    }
   ],
   "source": [
    "sns.boxplot(missing_data)"
   ]
  },
  {
   "cell_type": "code",
   "execution_count": 15,
   "metadata": {},
   "outputs": [
    {
     "data": {
      "image/png": "[encoded data removed]",
      "text/plain": [
       "<matplotlib.figure.Figure at 0x7f3236418e48>"
      ]
     },
     "metadata": {
      "needs_background": "light"
     },
     "output_type": "display_data"
    }
   ],
   "source": [
    "missing_data.sort_values(ascending=True,inplace=True)\n",
    "missing_data.plot.barh(figsize=(20,30))\n",
    "plt.xlabel('Percentage of missing data')\n",
    "plt.ylabel('Column Name')\n",
    "plt.show()\n"
   ]
  },
  {
   "cell_type": "code",
   "execution_count": 16,
   "metadata": {},
   "outputs": [
    {
     "data": {
      "text/plain": [
       "Index(['ALTER_HH', 'GEBURTSJAHR', 'KBA05_BAUMAX', 'KK_KUNDENTYP', 'AGER_TYP',\n",
       "       'TITEL_KZ'],\n",
       "      dtype='object')"
      ]
     },
     "execution_count": 16,
     "metadata": {},
     "output_type": "execute_result"
    }
   ],
   "source": [
    "# Remove the outlier columns from the dataset. (You'll perform other data\n",
    "# engineering tasks such as re-encoding and imputation later.)\n",
    "\n",
    "missing_data[missing_data > 20].index"
   ]
  },
  {
   "cell_type": "code",
   "execution_count": 17,
   "metadata": {},
   "outputs": [],
   "source": [
    "drop_cols = ['ALTER_HH', 'GEBURTSJAHR', 'KBA05_BAUMAX', 'KK_KUNDENTYP', 'AGER_TYP', 'TITEL_KZ']"
   ]
  },
  {
   "cell_type": "code",
   "execution_count": 18,
   "metadata": {},
   "outputs": [],
   "source": [
    "azdias = azdias.drop(drop_cols, axis=1)"
   ]
  },
  {
   "cell_type": "code",
   "execution_count": 19,
   "metadata": {},
   "outputs": [
    {
     "data": {
      "text/html": [
       "<div>\n",
       "<style scoped>\n",
       "    .dataframe tbody tr th:only-of-type {\n",
       "        vertical-align: middle;\n",
       "    }\n",
       "\n",
       "    .dataframe tbody tr th {\n",
       "        vertical-align: top;\n",
       "    }\n",
       "\n",
       "    .dataframe thead th {\n",
       "        text-align: right;\n",
       "    }\n",
       "</style>\n",
       "<table border=\"1\" class=\"dataframe\">\n",
       "  <thead>\n",
       "    <tr style=\"text-align: right;\">\n",
       "      <th></th>\n",
       "      <th>ALTERSKATEGORIE_GROB</th>\n",
       "      <th>ANREDE_KZ</th>\n",
       "      <th>CJT_GESAMTTYP</th>\n",
       "      <th>FINANZ_MINIMALIST</th>\n",
       "      <th>FINANZ_SPARER</th>\n",
       "      <th>FINANZ_VORSORGER</th>\n",
       "      <th>FINANZ_ANLEGER</th>\n",
       "      <th>FINANZ_UNAUFFAELLIGER</th>\n",
       "      <th>FINANZ_HAUSBAUER</th>\n",
       "      <th>FINANZTYP</th>\n",
       "      <th>...</th>\n",
       "      <th>PLZ8_ANTG1</th>\n",
       "      <th>PLZ8_ANTG2</th>\n",
       "      <th>PLZ8_ANTG3</th>\n",
       "      <th>PLZ8_ANTG4</th>\n",
       "      <th>PLZ8_BAUMAX</th>\n",
       "      <th>PLZ8_HHZ</th>\n",
       "      <th>PLZ8_GBZ</th>\n",
       "      <th>ARBEIT</th>\n",
       "      <th>ORTSGR_KLS9</th>\n",
       "      <th>RELAT_AB</th>\n",
       "    </tr>\n",
       "  </thead>\n",
       "  <tbody>\n",
       "    <tr>\n",
       "      <th>0</th>\n",
       "      <td>2.0</td>\n",
       "      <td>1</td>\n",
       "      <td>2.0</td>\n",
       "      <td>3</td>\n",
       "      <td>4</td>\n",
       "      <td>3</td>\n",
       "      <td>5</td>\n",
       "      <td>5</td>\n",
       "      <td>3</td>\n",
       "      <td>4</td>\n",
       "      <td>...</td>\n",
       "      <td>NaN</td>\n",
       "      <td>NaN</td>\n",
       "      <td>NaN</td>\n",
       "      <td>NaN</td>\n",
       "      <td>NaN</td>\n",
       "      <td>NaN</td>\n",
       "      <td>NaN</td>\n",
       "      <td>NaN</td>\n",
       "      <td>NaN</td>\n",
       "      <td>NaN</td>\n",
       "    </tr>\n",
       "    <tr>\n",
       "      <th>1</th>\n",
       "      <td>1.0</td>\n",
       "      <td>2</td>\n",
       "      <td>5.0</td>\n",
       "      <td>1</td>\n",
       "      <td>5</td>\n",
       "      <td>2</td>\n",
       "      <td>5</td>\n",
       "      <td>4</td>\n",
       "      <td>5</td>\n",
       "      <td>1</td>\n",
       "      <td>...</td>\n",
       "      <td>2.0</td>\n",
       "      <td>3.0</td>\n",
       "      <td>2.0</td>\n",
       "      <td>1.0</td>\n",
       "      <td>1.0</td>\n",
       "      <td>5.0</td>\n",
       "      <td>4.0</td>\n",
       "      <td>3.0</td>\n",
       "      <td>5.0</td>\n",
       "      <td>4.0</td>\n",
       "    </tr>\n",
       "    <tr>\n",
       "      <th>2</th>\n",
       "      <td>3.0</td>\n",
       "      <td>2</td>\n",
       "      <td>3.0</td>\n",
       "      <td>1</td>\n",
       "      <td>4</td>\n",
       "      <td>1</td>\n",
       "      <td>2</td>\n",
       "      <td>3</td>\n",
       "      <td>5</td>\n",
       "      <td>1</td>\n",
       "      <td>...</td>\n",
       "      <td>3.0</td>\n",
       "      <td>3.0</td>\n",
       "      <td>1.0</td>\n",
       "      <td>0.0</td>\n",
       "      <td>1.0</td>\n",
       "      <td>4.0</td>\n",
       "      <td>4.0</td>\n",
       "      <td>3.0</td>\n",
       "      <td>5.0</td>\n",
       "      <td>2.0</td>\n",
       "    </tr>\n",
       "    <tr>\n",
       "      <th>3</th>\n",
       "      <td>4.0</td>\n",
       "      <td>2</td>\n",
       "      <td>2.0</td>\n",
       "      <td>4</td>\n",
       "      <td>2</td>\n",
       "      <td>5</td>\n",
       "      <td>2</td>\n",
       "      <td>1</td>\n",
       "      <td>2</td>\n",
       "      <td>6</td>\n",
       "      <td>...</td>\n",
       "      <td>2.0</td>\n",
       "      <td>2.0</td>\n",
       "      <td>2.0</td>\n",
       "      <td>0.0</td>\n",
       "      <td>1.0</td>\n",
       "      <td>3.0</td>\n",
       "      <td>4.0</td>\n",
       "      <td>2.0</td>\n",
       "      <td>3.0</td>\n",
       "      <td>3.0</td>\n",
       "    </tr>\n",
       "    <tr>\n",
       "      <th>4</th>\n",
       "      <td>3.0</td>\n",
       "      <td>1</td>\n",
       "      <td>5.0</td>\n",
       "      <td>4</td>\n",
       "      <td>3</td>\n",
       "      <td>4</td>\n",
       "      <td>1</td>\n",
       "      <td>3</td>\n",
       "      <td>2</td>\n",
       "      <td>5</td>\n",
       "      <td>...</td>\n",
       "      <td>2.0</td>\n",
       "      <td>4.0</td>\n",
       "      <td>2.0</td>\n",
       "      <td>1.0</td>\n",
       "      <td>2.0</td>\n",
       "      <td>3.0</td>\n",
       "      <td>3.0</td>\n",
       "      <td>4.0</td>\n",
       "      <td>6.0</td>\n",
       "      <td>5.0</td>\n",
       "    </tr>\n",
       "  </tbody>\n",
       "</table>\n",
       "<p>5 rows × 79 columns</p>\n",
       "</div>"
      ],
      "text/plain": [
       "   ALTERSKATEGORIE_GROB  ANREDE_KZ  CJT_GESAMTTYP  FINANZ_MINIMALIST  \\\n",
       "0                   2.0          1            2.0                  3   \n",
       "1                   1.0          2            5.0                  1   \n",
       "2                   3.0          2            3.0                  1   \n",
       "3                   4.0          2            2.0                  4   \n",
       "4                   3.0          1            5.0                  4   \n",
       "\n",
       "   FINANZ_SPARER  FINANZ_VORSORGER  FINANZ_ANLEGER  FINANZ_UNAUFFAELLIGER  \\\n",
       "0              4                 3               5                      5   \n",
       "1              5                 2               5                      4   \n",
       "2              4                 1               2                      3   \n",
       "3              2                 5               2                      1   \n",
       "4              3                 4               1                      3   \n",
       "\n",
       "   FINANZ_HAUSBAUER  FINANZTYP    ...     PLZ8_ANTG1  PLZ8_ANTG2  PLZ8_ANTG3  \\\n",
       "0                 3          4    ...            NaN         NaN         NaN   \n",
       "1                 5          1    ...            2.0         3.0         2.0   \n",
       "2                 5          1    ...            3.0         3.0         1.0   \n",
       "3                 2          6    ...            2.0         2.0         2.0   \n",
       "4                 2          5    ...            2.0         4.0         2.0   \n",
       "\n",
       "   PLZ8_ANTG4  PLZ8_BAUMAX  PLZ8_HHZ  PLZ8_GBZ  ARBEIT  ORTSGR_KLS9  RELAT_AB  \n",
       "0         NaN          NaN       NaN       NaN     NaN          NaN       NaN  \n",
       "1         1.0          1.0       5.0       4.0     3.0          5.0       4.0  \n",
       "2         0.0          1.0       4.0       4.0     3.0          5.0       2.0  \n",
       "3         0.0          1.0       3.0       4.0     2.0          3.0       3.0  \n",
       "4         1.0          2.0       3.0       3.0     4.0          6.0       5.0  \n",
       "\n",
       "[5 rows x 79 columns]"
      ]
     },
     "execution_count": 19,
     "metadata": {},
     "output_type": "execute_result"
    }
   ],
   "source": [
    "azdias.head()"
   ]
  },
  {
   "cell_type": "markdown",
   "metadata": {},
   "source": [
    "#### Discussion 1.1.2: Assess Missing Data in Each Column\n",
    "\n",
    "- From the analysis above, we can see that 61 out of 85 columns contain missing data\n",
    "- Also, the histogram and the boxplot show that the major outliers are columns with more than 20% missing data\n",
    "- Based on these findings, 6 columns with over 20% missing data removed were removed and they are 'ALTER_HH', 'GEBURTSJAHR', 'KBA05_BAUMAX', 'KK_KUNDENTYP', 'AGER_TYP' and 'TITEL_KZ'"
   ]
  },
  {
   "cell_type": "markdown",
   "metadata": {},
   "source": [
    "#### Step 1.1.3: Assess Missing Data in Each Row\n",
    "\n",
    "Now, you'll perform a similar assessment for the rows of the dataset. How much data is missing in each row? As with the columns, you should see some groups of points that have a very different numbers of missing values. Divide the data into two subsets: one for data points that are above some threshold for missing values, and a second subset for points below that threshold.\n",
    "\n",
    "In order to know what to do with the outlier rows, we should see if the distribution of data values on columns that are not missing data (or are missing very little data) are similar or different between the two groups. Select at least five of these columns and compare the distribution of values.\n",
    "- You can use seaborn's [`countplot()`](https://seaborn.pydata.org/generated/seaborn.countplot.html) function to create a bar chart of code frequencies and matplotlib's [`subplot()`](https://matplotlib.org/api/_as_gen/matplotlib.pyplot.subplot.html) function to put bar charts for the two subplots side by side.\n",
    "- To reduce repeated code, you might want to write a function that can perform this comparison, taking as one of its arguments a column to be compared.\n",
    "\n",
    "Depending on what you observe in your comparison, this will have implications on how you approach your conclusions later in the analysis. If the distributions of non-missing features look similar between the data with many missing values and the data with few or no missing values, then we could argue that simply dropping those points from the analysis won't present a major issue. On the other hand, if the data with many missing values looks very different from the data with few or no missing values, then we should make a note on those data as special. We'll revisit these data later on. **Either way, you should continue your analysis for now using just the subset of the data with few or no missing values.**"
   ]
  },
  {
   "cell_type": "code",
   "execution_count": 20,
   "metadata": {},
   "outputs": [],
   "source": [
    "# How much data is missing in each row of the dataset?\n",
    "\n",
    "row_missing = azdias.isnull().sum(axis=1)"
   ]
  },
  {
   "cell_type": "code",
   "execution_count": 21,
   "metadata": {},
   "outputs": [
    {
     "data": {
      "text/plain": [
       "643174    49\n",
       "732775    49\n",
       "472919    48\n",
       "183108    47\n",
       "139316    47\n",
       "691141    47\n",
       "691142    47\n",
       "691171    47\n",
       "691183    47\n",
       "139332    47\n",
       "691197    47\n",
       "139323    47\n",
       "691212    47\n",
       "691122    47\n",
       "139267    47\n",
       "139255    47\n",
       "139250    47\n",
       "139248    47\n",
       "139245    47\n",
       "139243    47\n",
       "691317    47\n",
       "691129    47\n",
       "691118    47\n",
       "139236    47\n",
       "139478    47\n",
       "690871    47\n",
       "690876    47\n",
       "690878    47\n",
       "690887    47\n",
       "139521    47\n",
       "          ..\n",
       "540246     0\n",
       "540244     0\n",
       "540243     0\n",
       "540242     0\n",
       "540241     0\n",
       "540240     0\n",
       "540239     0\n",
       "540269     0\n",
       "540271     0\n",
       "540300     0\n",
       "540289     0\n",
       "540299     0\n",
       "540298     0\n",
       "540296     0\n",
       "540295     0\n",
       "540293     0\n",
       "540292     0\n",
       "540291     0\n",
       "540290     0\n",
       "540287     0\n",
       "540273     0\n",
       "540286     0\n",
       "540284     0\n",
       "540283     0\n",
       "540281     0\n",
       "540280     0\n",
       "540277     0\n",
       "540275     0\n",
       "540274     0\n",
       "445610     0\n",
       "Length: 891221, dtype: int64"
      ]
     },
     "execution_count": 21,
     "metadata": {},
     "output_type": "execute_result"
    }
   ],
   "source": [
    "row_missing.sort_values(ascending=False,inplace=True)\n",
    "row_missing"
   ]
  },
  {
   "cell_type": "code",
   "execution_count": 22,
   "metadata": {},
   "outputs": [
    {
     "data": {
      "image/png": "[encoded data removed]",
      "text/plain": [
       "<matplotlib.figure.Figure at 0x7f323634ca58>"
      ]
     },
     "metadata": {
      "needs_background": "light"
     },
     "output_type": "display_data"
    }
   ],
   "source": [
    "plt.hist(row_missing)\n",
    "plt.xlabel('Missing Data')\n",
    "plt.ylabel('Row Count')\n",
    "plt.show()"
   ]
  },
  {
   "cell_type": "code",
   "execution_count": 23,
   "metadata": {},
   "outputs": [],
   "source": [
    "# Write code to divide the data into two subsets based on the number of missing\n",
    "# values in each row.\n",
    "\n",
    "below_15 = azdias[azdias.isnull().sum(axis=1) < 15]\n",
    "above_15 = azdias[azdias.isnull().sum(axis=1) >= 15]"
   ]
  },
  {
   "cell_type": "code",
   "execution_count": 24,
   "metadata": {},
   "outputs": [],
   "source": [
    "# Compare the distribution of values for at least five columns where there are\n",
    "# no or few missing values, between the two subsets.\n",
    "\n",
    "missing_col = azdias.isnull().sum()\n",
    "zero_missing = missing_col[missing_col==0].index"
   ]
  },
  {
   "cell_type": "code",
   "execution_count": 25,
   "metadata": {},
   "outputs": [
    {
     "data": {
      "text/plain": [
       "Index(['ANREDE_KZ', 'FINANZ_MINIMALIST', 'FINANZ_SPARER', 'FINANZ_VORSORGER',\n",
       "       'FINANZ_ANLEGER'],\n",
       "      dtype='object')"
      ]
     },
     "execution_count": 25,
     "metadata": {},
     "output_type": "execute_result"
    }
   ],
   "source": [
    "zero_missing = zero_missing[:5]\n",
    "zero_missing"
   ]
  },
  {
   "cell_type": "code",
   "execution_count": 26,
   "metadata": {},
   "outputs": [
    {
     "data": {
      "image/png": "[encoded data removed]",
      "text/plain": [
       "<matplotlib.figure.Figure at 0x7f3234a1d048>"
      ]
     },
     "metadata": {
      "needs_background": "light"
     },
     "output_type": "display_data"
    }
   ],
   "source": [
    "figure, ax = plt.subplots(nrows=5, ncols=2, figsize = (15,20))\n",
    "figure.subplots_adjust(hspace = 1, wspace=.3)\n",
    "pos=1\n",
    "for i in range(5):\n",
    "    sns.countplot(below_15[zero_missing[i]], ax=ax[i][0])\n",
    "    ax[i][0].set_title('Below 15 missing values')\n",
    "    sns.countplot(above_15[zero_missing[i]], ax=ax[i][1])\n",
    "    ax[i][1].set_title('Above 15 missing values')"
   ]
  },
  {
   "cell_type": "markdown",
   "metadata": {},
   "source": [
    "#### Discussion 1.1.3: Assess Missing Data in Each Row\n",
    "\n",
    "The charts above show a huge difference in the distribution of the data with fewer missing values and those with lots of missing values. As we can see, the data with fewer missing values are normally distributed unlike the data with more missing values."
   ]
  },
  {
   "cell_type": "markdown",
   "metadata": {},
   "source": [
    "### Step 1.2: Select and Re-Encode Features\n",
    "\n",
    "Checking for missing data isn't the only way in which you can prepare a dataset for analysis. Since the unsupervised learning techniques to be used will only work on data that is encoded numerically, you need to make a few encoding changes or additional assumptions to be able to make progress. In addition, while almost all of the values in the dataset are encoded using numbers, not all of them represent numeric values. Check the third column of the feature summary (`feat_info`) for a summary of types of measurement.\n",
    "- For numeric and interval data, these features can be kept without changes.\n",
    "- Most of the variables in the dataset are ordinal in nature. While ordinal values may technically be non-linear in spacing, make the simplifying assumption that the ordinal variables can be treated as being interval in nature (that is, kept without any changes).\n",
    "- Special handling may be necessary for the remaining two variable types: categorical, and 'mixed'.\n",
    "\n",
    "In the first two parts of this sub-step, you will perform an investigation of the categorical and mixed-type features and make a decision on each of them, whether you will keep, drop, or re-encode each. Then, in the last part, you will create a new data frame with only the selected and engineered columns.\n",
    "\n",
    "Data wrangling is often the trickiest part of the data analysis process, and there's a lot of it to be done here. But stick with it: once you're done with this step, you'll be ready to get to the machine learning parts of the project!"
   ]
  },
  {
   "cell_type": "code",
   "execution_count": 27,
   "metadata": {},
   "outputs": [
    {
     "data": {
      "text/plain": [
       "ordinal        49\n",
       "categorical    18\n",
       "mixed           6\n",
       "numeric         6\n",
       "Name: type, dtype: int64"
      ]
     },
     "execution_count": 27,
     "metadata": {},
     "output_type": "execute_result"
    }
   ],
   "source": [
    "# How many features are there of each data type?\n",
    "\n",
    "feat_info_new = feat_info[feat_info.attribute.isin(below_15.columns)]\n",
    "feat_info_new.type.value_counts()"
   ]
  },
  {
   "cell_type": "markdown",
   "metadata": {},
   "source": [
    "#### Step 1.2.1: Re-Encode Categorical Features\n",
    "\n",
    "For categorical data, you would ordinarily need to encode the levels as dummy variables. Depending on the number of categories, perform one of the following:\n",
    "- For binary (two-level) categoricals that take numeric values, you can keep them without needing to do anything.\n",
    "- There is one binary variable that takes on non-numeric values. For this one, you need to re-encode the values as numbers or create a dummy variable.\n",
    "- For multi-level categoricals (three or more values), you can choose to encode the values using multiple dummy variables (e.g. via [OneHotEncoder](http://scikit-learn.org/stable/modules/generated/sklearn.preprocessing.OneHotEncoder.html)), or (to keep things straightforward) just drop them from the analysis. As always, document your choices in the Discussion section."
   ]
  },
  {
   "cell_type": "code",
   "execution_count": 28,
   "metadata": {},
   "outputs": [],
   "source": [
    "# Assess categorical variables: which are binary, which are multi-level, and\n",
    "# which one needs to be re-encoded?\n",
    "\n",
    "cat_var = feat_info_new[feat_info_new.type==\"categorical\"]"
   ]
  },
  {
   "cell_type": "code",
   "execution_count": 29,
   "metadata": {},
   "outputs": [],
   "source": [
    "binary_cat = []\n",
    "multi_level_cat = []\n",
    "\n",
    "for col in cat_var.attribute:\n",
    "    if below_15[col].nunique()==2:\n",
    "        binary_cat.append(col)\n",
    "    elif below_15[col].nunique()>2:\n",
    "        multi_level_cat.append(col)"
   ]
  },
  {
   "cell_type": "code",
   "execution_count": 30,
   "metadata": {},
   "outputs": [
    {
     "name": "stdout",
     "output_type": "stream",
     "text": [
      "The Binary Categorical Variables are ['ANREDE_KZ', 'GREEN_AVANTGARDE', 'SOHO_KZ', 'VERS_TYP', 'OST_WEST_KZ'] \n",
      "\n",
      "The Multi-level Categorical Variables are ['CJT_GESAMTTYP', 'FINANZTYP', 'GFK_URLAUBERTYP', 'LP_FAMILIE_FEIN', 'LP_FAMILIE_GROB', 'LP_STATUS_FEIN', 'LP_STATUS_GROB', 'NATIONALITAET_KZ', 'SHOPPER_TYP', 'ZABEOTYP', 'GEBAEUDETYP', 'CAMEO_DEUG_2015', 'CAMEO_DEU_2015']\n"
     ]
    }
   ],
   "source": [
    "print(\"The Binary Categorical Variables are\", binary_cat, \"\\n\")\n",
    "print(\"The Multi-level Categorical Variables are\", multi_level_cat)"
   ]
  },
  {
   "cell_type": "code",
   "execution_count": 31,
   "metadata": {},
   "outputs": [
    {
     "name": "stdout",
     "output_type": "stream",
     "text": [
      "2    410568\n",
      "1    376976\n",
      "Name: ANREDE_KZ, dtype: int64\n",
      "0    614144\n",
      "1    173400\n",
      "Name: GREEN_AVANTGARDE, dtype: int64\n",
      "0.0    780923\n",
      "1.0      6621\n",
      "Name: SOHO_KZ, dtype: int64\n",
      "2.0    392287\n",
      "1.0    359725\n",
      "Name: VERS_TYP, dtype: int64\n",
      "W    620787\n",
      "O    166757\n",
      "Name: OST_WEST_KZ, dtype: int64\n"
     ]
    }
   ],
   "source": [
    "for col in binary_cat:\n",
    "    print(below_15[col].value_counts())"
   ]
  },
  {
   "cell_type": "code",
   "execution_count": 32,
   "metadata": {},
   "outputs": [],
   "source": [
    "# Re-encode categorical variable(s) to be kept in the analysis.\n",
    "\n",
    "azdias_new = below_15.copy()\n",
    "\n",
    "azdias_new.OST_WEST_KZ.replace('W', 0, inplace=True)\n",
    "azdias_new.OST_WEST_KZ.replace('O', 1, inplace=True)"
   ]
  },
  {
   "cell_type": "code",
   "execution_count": 33,
   "metadata": {},
   "outputs": [],
   "source": [
    "# Dropping the multi-level categories\n",
    "\n",
    "for col in multi_level_cat:\n",
    "    azdias_new.drop(col, axis=1, inplace=True)"
   ]
  },
  {
   "cell_type": "markdown",
   "metadata": {},
   "source": [
    "#### Discussion 1.2.1: Re-Encode Categorical Features\n",
    "\n",
    "- I extracted the binary categorical variables and re-encoded one of the variables with non-numerical values as 0 and 1\n",
    "- I also extracted the multi-level categorical variables and dropped them from the dataset to keep it simple and straight forward"
   ]
  },
  {
   "cell_type": "markdown",
   "metadata": {},
   "source": [
    "#### Step 1.2.2: Engineer Mixed-Type Features\n",
    "\n",
    "There are a handful of features that are marked as \"mixed\" in the feature summary that require special treatment in order to be included in the analysis. There are two in particular that deserve attention; the handling of the rest are up to your own choices:\n",
    "- \"PRAEGENDE_JUGENDJAHRE\" combines information on three dimensions: generation by decade, movement (mainstream vs. avantgarde), and nation (east vs. west). While there aren't enough levels to disentangle east from west, you should create two new variables to capture the other two dimensions: an interval-type variable for decade, and a binary variable for movement.\n",
    "- \"CAMEO_INTL_2015\" combines information on two axes: wealth and life stage. Break up the two-digit codes by their 'tens'-place and 'ones'-place digits into two new ordinal variables (which, for the purposes of this project, is equivalent to just treating them as their raw numeric values).\n",
    "- If you decide to keep or engineer new features around the other mixed-type features, make sure you note your steps in the Discussion section.\n",
    "\n",
    "Be sure to check `Data_Dictionary.md` for the details needed to finish these tasks."
   ]
  },
  {
   "cell_type": "code",
   "execution_count": 34,
   "metadata": {},
   "outputs": [],
   "source": [
    "# Investigate \"PRAEGENDE_JUGENDJAHRE\" and engineer two new variables.\n",
    "\n",
    "azdias_new['GENERATION'] = azdias_new['PRAEGENDE_JUGENDJAHRE']\n",
    "azdias_new['MOVEMENT'] = azdias_new['PRAEGENDE_JUGENDJAHRE']\n",
    "\n",
    "generation_dict = {1:1,2:1,3:2,4:2,5:3,6:3,7:3,8:4,9:4,10:5,11:5,12:5,13:5,14:6,15:6}\n",
    "movement_dict = {1:1,2:0,3:1,4:0,5:1,6:0,7:0,8:1,9:0,10:1,11:0,12:1,13:0,14:1,15:0}"
   ]
  },
  {
   "cell_type": "code",
   "execution_count": 35,
   "metadata": {},
   "outputs": [],
   "source": [
    "azdias_new['GENERATION'].replace(generation_dict, inplace=True)\n",
    "azdias_new['MOVEMENT'].replace(movement_dict, inplace=True)"
   ]
  },
  {
   "cell_type": "code",
   "execution_count": 36,
   "metadata": {},
   "outputs": [],
   "source": [
    "# Investigate \"CAMEO_INTL_2015\" and engineer two new variables.\n",
    "\n",
    "azdias_new['WEALTH'] = azdias_new['CAMEO_INTL_2015']\n",
    "azdias_new['LIFE_STAGE'] = azdias_new['CAMEO_INTL_2015']\n",
    "\n",
    "wealth_dict = {'11':1, '12':1, '13':1, '14':1, '15':1, '21':2, '22':2, '23':2, '24':2, '25':2,'31':3, '32':3, '33':3, '34':3, '35':3, '41':4, '42':4, '43':4, '44':4, '45':4,'51':5, '52':5, '53':5, '54':5, '55':5}\n",
    "life_stage_dict = {'11':1, '12':2, '13':3, '14':4, '15':5, '21':1, '22':2, '23':3, '24':4, '25':5,'31':1, '32':2, '33':3, '34':4, '35':5, '41':1, '42':2, '43':3, '44':4, '45':5,'51':1, '52':2, '53':3, '54':4, '55':5}"
   ]
  },
  {
   "cell_type": "code",
   "execution_count": 37,
   "metadata": {},
   "outputs": [],
   "source": [
    "azdias_new['WEALTH'].replace(wealth_dict, inplace=True)\n",
    "azdias_new['LIFE_STAGE'].replace(life_stage_dict, inplace=True)"
   ]
  },
  {
   "cell_type": "markdown",
   "metadata": {},
   "source": [
    "#### Discussion 1.2.2: Engineer Mixed-Type Features\n",
    "\n",
    "- The mixed features PRAEGENDE_JUGENDJAHRE and CAMEO_INTL_2015 were kept\n",
    "- The feature PRAEGENDE_JUGENDJAHRE contains 3 dimensions namely GENERATION, MOVEMENT and NATION\n",
    "- The feature CAMEO_INTL_2015 contains 2 axes namely WEALTH and LIFE STAGE\n",
    "- I engineered both mixed features by creating dictionaries for each of the variables in the features and replace the values in the features with the valuesin the dictionaries\n",
    "- I dropped the column of the mixed features from the dataset"
   ]
  },
  {
   "cell_type": "markdown",
   "metadata": {},
   "source": [
    "#### Step 1.2.3: Complete Feature Selection\n",
    "\n",
    "In order to finish this step up, you need to make sure that your data frame now only has the columns that you want to keep. To summarize, the dataframe should consist of the following:\n",
    "- All numeric, interval, and ordinal type columns from the original dataset.\n",
    "- Binary categorical features (all numerically-encoded).\n",
    "- Engineered features from other multi-level categorical features and mixed features.\n",
    "\n",
    "Make sure that for any new columns that you have engineered, that you've excluded the original columns from the final dataset. Otherwise, their values will interfere with the analysis later on the project. For example, you should not keep \"PRAEGENDE_JUGENDJAHRE\", since its values won't be useful for the algorithm: only the values derived from it in the engineered features you created should be retained. As a reminder, your data should only be from **the subset with few or no missing values**."
   ]
  },
  {
   "cell_type": "code",
   "execution_count": 38,
   "metadata": {},
   "outputs": [],
   "source": [
    "# If there are other re-engineering tasks you need to perform, make sure you\n",
    "# take care of them here. (Dealing with missing data will come in step 2.1.)\n",
    "\n"
   ]
  },
  {
   "cell_type": "code",
   "execution_count": 39,
   "metadata": {
    "scrolled": true
   },
   "outputs": [],
   "source": [
    "# Do whatever you need to in order to ensure that the dataframe only contains\n",
    "# the columns that should be passed to the algorithm functions.\n",
    "\n",
    "mixed_feat = feat_info_new[feat_info_new.type==\"mixed\"][\"attribute\"]\n",
    "for col in mixed_feat:\n",
    "    azdias_new.drop(col, axis=1, inplace=True)"
   ]
  },
  {
   "cell_type": "markdown",
   "metadata": {},
   "source": [
    "### Step 1.3: Create a Cleaning Function\n",
    "\n",
    "Even though you've finished cleaning up the general population demographics data, it's important to look ahead to the future and realize that you'll need to perform the same cleaning steps on the customer demographics data. In this substep, complete the function below to execute the main feature selection, encoding, and re-engineering steps you performed above. Then, when it comes to looking at the customer data in Step 3, you can just run this function on that DataFrame to get the trimmed dataset in a single step."
   ]
  },
  {
   "cell_type": "code",
   "execution_count": 40,
   "metadata": {},
   "outputs": [],
   "source": [
    "def clean_data(df):\n",
    "    \"\"\"\n",
    "    Perform feature trimming, re-encoding, and engineering for demographics\n",
    "    data\n",
    "    \n",
    "    INPUT: Demographics DataFrame\n",
    "    OUTPUT: Trimmed and cleaned demographics DataFrame\n",
    "    \"\"\"\n",
    "    \n",
    "    # Put in code here to execute all main cleaning steps:\n",
    "    # convert missing value codes into NaNs, ...\n",
    "    \n",
    "    for i in range(len(feat_info)):\n",
    "        missing_val = feat_info.iloc[i]['missing_or_unknown']\n",
    "        missing_val = ((missing_val.strip('[')).strip(']')).split(sep=',')\n",
    "        missing_val = [int(val) if (val!='X' and val!='XX' and val!='') else val for val in missing_val]\n",
    "        if missing_val != ['']:\n",
    "            df_new = df.replace({feat_info.iloc[i]['attribute']: missing_val}, np.nan)\n",
    "    for col in df_new.columns:\n",
    "        df_new = df_new.replace({col: ['XX', 'X']}, np.nan)\n",
    "        \n",
    "    # remove selected columns and rows, ...\n",
    "    \n",
    "    # drop columns  \n",
    "    drop_cols = ['ALTER_HH', 'GEBURTSJAHR', 'KBA05_BAUMAX', 'KK_KUNDENTYP', 'AGER_TYP', 'TITEL_KZ']\n",
    "    df_new = df_new.drop(drop_cols, axis=1)\n",
    "    \n",
    "    # drop rows\n",
    "    df_new = df_new[df_new.isnull().sum(axis=1) < 15]\n",
    "     \n",
    "    # select, re-encode, and engineer column values.\n",
    "    \n",
    "    # re-encode binary column values\n",
    "    df_new.OST_WEST_KZ.replace('W', 0, inplace=True)\n",
    "    df_new.OST_WEST_KZ.replace('O', 1, inplace=True)\n",
    "    \n",
    "    # drop multi-level columns\n",
    "    cat_var = feat_info_new[feat_info_new.type==\"categorical\"]\n",
    "    \n",
    "    multi_level_cat = []\n",
    "    for col in cat_var.attribute:\n",
    "        if df_new[col].nunique()>2:\n",
    "            multi_level_cat.append(col)\n",
    "    \n",
    "    for col in multi_level_cat:\n",
    "        df_new.drop(col, axis=1, inplace=True)\n",
    "                \n",
    "    # engineer the mixed-type features\n",
    "    df_new['GENERATION'] = df_new['PRAEGENDE_JUGENDJAHRE']\n",
    "    df_new['MOVEMENT'] = df_new['PRAEGENDE_JUGENDJAHRE']\n",
    "    df_new['WEALTH'] = df_new['CAMEO_INTL_2015']\n",
    "    df_new['LIFE_STAGE'] = df_new['CAMEO_INTL_2015']\n",
    "\n",
    "    generation_dict = {1:1,2:1,3:2,4:2,5:3,6:3,7:3,8:4,9:4,10:5,11:5,12:5,13:5,14:6,15:6}\n",
    "    movement_dict = {1:1,2:0,3:1,4:0,5:1,6:0,7:0,8:1,9:0,10:1,11:0,12:1,13:0,14:1,15:0}\n",
    "    wealth_dict = {'11':1, '12':1, '13':1, '14':1, '15':1, '21':2, '22':2, '23':2, '24':2, '25':2,'31':3, '32':3, '33':3, '34':3, '35':3, '41':4, '42':4, '43':4, '44':4, '45':4,'51':5, '52':5, '53':5, '54':5, '55':5}\n",
    "    life_stage_dict = {'11':1, '12':2, '13':3, '14':4, '15':5, '21':1, '22':2, '23':3, '24':4, '25':5,'31':1, '32':2, '33':3, '34':4, '35':5, '41':1, '42':2, '43':3, '44':4, '45':5,'51':1, '52':2, '53':3, '54':4, '55':5}\n",
    "\n",
    "    df_new['GENERATION'].replace(generation_dict, inplace=True)\n",
    "    df_new['MOVEMENT'].replace(movement_dict, inplace=True)\n",
    "    df_new['WEALTH'].replace(wealth_dict, inplace=True)\n",
    "    df_new['LIFE_STAGE'].replace(life_stage_dict, inplace=True)\n",
    "    \n",
    "    mixed_feat = feat_info_new[feat_info_new.type==\"mixed\"][\"attribute\"]\n",
    "    for col in mixed_feat:\n",
    "        df_new.drop(col, axis=1, inplace=True)\n",
    "    \n",
    "\n",
    "    # Return the cleaned dataframe.\n",
    "    return df_new"
   ]
  },
  {
   "cell_type": "code",
   "execution_count": 41,
   "metadata": {},
   "outputs": [
    {
     "data": {
      "text/html": [
       "<div>\n",
       "<style scoped>\n",
       "    .dataframe tbody tr th:only-of-type {\n",
       "        vertical-align: middle;\n",
       "    }\n",
       "\n",
       "    .dataframe tbody tr th {\n",
       "        vertical-align: top;\n",
       "    }\n",
       "\n",
       "    .dataframe thead th {\n",
       "        text-align: right;\n",
       "    }\n",
       "</style>\n",
       "<table border=\"1\" class=\"dataframe\">\n",
       "  <thead>\n",
       "    <tr style=\"text-align: right;\">\n",
       "      <th></th>\n",
       "      <th>ALTERSKATEGORIE_GROB</th>\n",
       "      <th>ANREDE_KZ</th>\n",
       "      <th>FINANZ_MINIMALIST</th>\n",
       "      <th>FINANZ_SPARER</th>\n",
       "      <th>FINANZ_VORSORGER</th>\n",
       "      <th>FINANZ_ANLEGER</th>\n",
       "      <th>FINANZ_UNAUFFAELLIGER</th>\n",
       "      <th>FINANZ_HAUSBAUER</th>\n",
       "      <th>GREEN_AVANTGARDE</th>\n",
       "      <th>HEALTH_TYP</th>\n",
       "      <th>...</th>\n",
       "      <th>PLZ8_ANTG4</th>\n",
       "      <th>PLZ8_HHZ</th>\n",
       "      <th>PLZ8_GBZ</th>\n",
       "      <th>ARBEIT</th>\n",
       "      <th>ORTSGR_KLS9</th>\n",
       "      <th>RELAT_AB</th>\n",
       "      <th>GENERATION</th>\n",
       "      <th>MOVEMENT</th>\n",
       "      <th>WEALTH</th>\n",
       "      <th>LIFE_STAGE</th>\n",
       "    </tr>\n",
       "  </thead>\n",
       "  <tbody>\n",
       "    <tr>\n",
       "      <th>0</th>\n",
       "      <td>4</td>\n",
       "      <td>1</td>\n",
       "      <td>5</td>\n",
       "      <td>1</td>\n",
       "      <td>5</td>\n",
       "      <td>1</td>\n",
       "      <td>2</td>\n",
       "      <td>2</td>\n",
       "      <td>1</td>\n",
       "      <td>1</td>\n",
       "      <td>...</td>\n",
       "      <td>0.0</td>\n",
       "      <td>5.0</td>\n",
       "      <td>5.0</td>\n",
       "      <td>1.0</td>\n",
       "      <td>2.0</td>\n",
       "      <td>1.0</td>\n",
       "      <td>2</td>\n",
       "      <td>0</td>\n",
       "      <td>1.0</td>\n",
       "      <td>3.0</td>\n",
       "    </tr>\n",
       "    <tr>\n",
       "      <th>2</th>\n",
       "      <td>4</td>\n",
       "      <td>2</td>\n",
       "      <td>5</td>\n",
       "      <td>1</td>\n",
       "      <td>5</td>\n",
       "      <td>1</td>\n",
       "      <td>4</td>\n",
       "      <td>4</td>\n",
       "      <td>1</td>\n",
       "      <td>2</td>\n",
       "      <td>...</td>\n",
       "      <td>1.0</td>\n",
       "      <td>3.0</td>\n",
       "      <td>2.0</td>\n",
       "      <td>3.0</td>\n",
       "      <td>5.0</td>\n",
       "      <td>3.0</td>\n",
       "      <td>2</td>\n",
       "      <td>0</td>\n",
       "      <td>3.0</td>\n",
       "      <td>4.0</td>\n",
       "    </tr>\n",
       "    <tr>\n",
       "      <th>3</th>\n",
       "      <td>4</td>\n",
       "      <td>1</td>\n",
       "      <td>5</td>\n",
       "      <td>1</td>\n",
       "      <td>5</td>\n",
       "      <td>2</td>\n",
       "      <td>1</td>\n",
       "      <td>2</td>\n",
       "      <td>0</td>\n",
       "      <td>2</td>\n",
       "      <td>...</td>\n",
       "      <td>0.0</td>\n",
       "      <td>3.0</td>\n",
       "      <td>4.0</td>\n",
       "      <td>1.0</td>\n",
       "      <td>3.0</td>\n",
       "      <td>1.0</td>\n",
       "      <td>1</td>\n",
       "      <td>1</td>\n",
       "      <td>2.0</td>\n",
       "      <td>4.0</td>\n",
       "    </tr>\n",
       "    <tr>\n",
       "      <th>4</th>\n",
       "      <td>3</td>\n",
       "      <td>1</td>\n",
       "      <td>3</td>\n",
       "      <td>1</td>\n",
       "      <td>4</td>\n",
       "      <td>4</td>\n",
       "      <td>5</td>\n",
       "      <td>2</td>\n",
       "      <td>0</td>\n",
       "      <td>3</td>\n",
       "      <td>...</td>\n",
       "      <td>1.0</td>\n",
       "      <td>3.0</td>\n",
       "      <td>3.0</td>\n",
       "      <td>3.0</td>\n",
       "      <td>5.0</td>\n",
       "      <td>1.0</td>\n",
       "      <td>4</td>\n",
       "      <td>1</td>\n",
       "      <td>4.0</td>\n",
       "      <td>1.0</td>\n",
       "    </tr>\n",
       "    <tr>\n",
       "      <th>5</th>\n",
       "      <td>3</td>\n",
       "      <td>1</td>\n",
       "      <td>5</td>\n",
       "      <td>1</td>\n",
       "      <td>5</td>\n",
       "      <td>1</td>\n",
       "      <td>2</td>\n",
       "      <td>3</td>\n",
       "      <td>1</td>\n",
       "      <td>3</td>\n",
       "      <td>...</td>\n",
       "      <td>1.0</td>\n",
       "      <td>5.0</td>\n",
       "      <td>5.0</td>\n",
       "      <td>3.0</td>\n",
       "      <td>7.0</td>\n",
       "      <td>5.0</td>\n",
       "      <td>2</td>\n",
       "      <td>0</td>\n",
       "      <td>3.0</td>\n",
       "      <td>4.0</td>\n",
       "    </tr>\n",
       "  </tbody>\n",
       "</table>\n",
       "<p>5 rows × 63 columns</p>\n",
       "</div>"
      ],
      "text/plain": [
       "   ALTERSKATEGORIE_GROB  ANREDE_KZ  FINANZ_MINIMALIST  FINANZ_SPARER  \\\n",
       "0                     4          1                  5              1   \n",
       "2                     4          2                  5              1   \n",
       "3                     4          1                  5              1   \n",
       "4                     3          1                  3              1   \n",
       "5                     3          1                  5              1   \n",
       "\n",
       "   FINANZ_VORSORGER  FINANZ_ANLEGER  FINANZ_UNAUFFAELLIGER  FINANZ_HAUSBAUER  \\\n",
       "0                 5               1                      2                 2   \n",
       "2                 5               1                      4                 4   \n",
       "3                 5               2                      1                 2   \n",
       "4                 4               4                      5                 2   \n",
       "5                 5               1                      2                 3   \n",
       "\n",
       "   GREEN_AVANTGARDE  HEALTH_TYP     ...      PLZ8_ANTG4  PLZ8_HHZ  PLZ8_GBZ  \\\n",
       "0                 1           1     ...             0.0       5.0       5.0   \n",
       "2                 1           2     ...             1.0       3.0       2.0   \n",
       "3                 0           2     ...             0.0       3.0       4.0   \n",
       "4                 0           3     ...             1.0       3.0       3.0   \n",
       "5                 1           3     ...             1.0       5.0       5.0   \n",
       "\n",
       "   ARBEIT  ORTSGR_KLS9  RELAT_AB  GENERATION  MOVEMENT  WEALTH  LIFE_STAGE  \n",
       "0     1.0          2.0       1.0           2         0     1.0         3.0  \n",
       "2     3.0          5.0       3.0           2         0     3.0         4.0  \n",
       "3     1.0          3.0       1.0           1         1     2.0         4.0  \n",
       "4     3.0          5.0       1.0           4         1     4.0         1.0  \n",
       "5     3.0          7.0       5.0           2         0     3.0         4.0  \n",
       "\n",
       "[5 rows x 63 columns]"
      ]
     },
     "execution_count": 41,
     "metadata": {},
     "output_type": "execute_result"
    }
   ],
   "source": [
    "# Testing the function\n",
    "\n",
    "df = pd.read_csv('Udacity_CUSTOMERS_Subset.csv',delimiter=';') \n",
    "df_test = clean_data(df)\n",
    "df_test.head()"
   ]
  },
  {
   "cell_type": "code",
   "execution_count": 42,
   "metadata": {},
   "outputs": [
    {
     "data": {
      "text/plain": [
       "(787544, 63)"
      ]
     },
     "execution_count": 42,
     "metadata": {},
     "output_type": "execute_result"
    }
   ],
   "source": [
    "azdias_new.shape"
   ]
  },
  {
   "cell_type": "markdown",
   "metadata": {},
   "source": [
    "## Step 2: Feature Transformation\n",
    "\n",
    "### Step 2.1: Apply Feature Scaling\n",
    "\n",
    "Before we apply dimensionality reduction techniques to the data, we need to perform feature scaling so that the principal component vectors are not influenced by the natural differences in scale for features. Starting from this part of the project, you'll want to keep an eye on the [API reference page for sklearn](http://scikit-learn.org/stable/modules/classes.html) to help you navigate to all of the classes and functions that you'll need. In this substep, you'll need to check the following:\n",
    "\n",
    "- sklearn requires that data not have missing values in order for its estimators to work properly. So, before applying the scaler to your data, make sure that you've cleaned the DataFrame of the remaining missing values. This can be as simple as just removing all data points with missing data, or applying an [Imputer](https://scikit-learn.org/0.16/modules/generated/sklearn.preprocessing.Imputer.html) to replace all missing values. You might also try a more complicated procedure where you temporarily remove missing values in order to compute the scaling parameters before re-introducing those missing values and applying imputation. Think about how much missing data you have and what possible effects each approach might have on your analysis, and justify your decision in the discussion section below.\n",
    "- For the actual scaling function, a [StandardScaler](http://scikit-learn.org/stable/modules/generated/sklearn.preprocessing.StandardScaler.html) instance is suggested, scaling each feature to mean 0 and standard deviation 1.\n",
    "- For these classes, you can make use of the `.fit_transform()` method to both fit a procedure to the data as well as apply the transformation to the data at the same time. Don't forget to keep the fit sklearn objects handy, since you'll be applying them to the customer demographics data towards the end of the project."
   ]
  },
  {
   "cell_type": "code",
   "execution_count": 43,
   "metadata": {},
   "outputs": [
    {
     "data": {
      "text/plain": [
       "573274"
      ]
     },
     "execution_count": 43,
     "metadata": {},
     "output_type": "execute_result"
    }
   ],
   "source": [
    "# If you've not yet cleaned the dataset of all NaN values, then investigate and\n",
    "# do that now.\n",
    "\n",
    "azdias_new.isnull().sum().sum()"
   ]
  },
  {
   "cell_type": "code",
   "execution_count": 44,
   "metadata": {
    "scrolled": true
   },
   "outputs": [
    {
     "name": "stdout",
     "output_type": "stream",
     "text": [
      "<class 'pandas.core.frame.DataFrame'>\n",
      "Int64Index: 787544 entries, 1 to 891220\n",
      "Data columns (total 63 columns):\n",
      "ALTERSKATEGORIE_GROB     784821 non-null float64\n",
      "ANREDE_KZ                787544 non-null int64\n",
      "FINANZ_MINIMALIST        787544 non-null int64\n",
      "FINANZ_SPARER            787544 non-null int64\n",
      "FINANZ_VORSORGER         787544 non-null int64\n",
      "FINANZ_ANLEGER           787544 non-null int64\n",
      "FINANZ_UNAUFFAELLIGER    787544 non-null int64\n",
      "FINANZ_HAUSBAUER         787544 non-null int64\n",
      "GREEN_AVANTGARDE         787544 non-null int64\n",
      "HEALTH_TYP               752012 non-null float64\n",
      "RETOURTYP_BK_S           783249 non-null float64\n",
      "SEMIO_SOZ                787544 non-null int64\n",
      "SEMIO_FAM                787544 non-null int64\n",
      "SEMIO_REL                787544 non-null int64\n",
      "SEMIO_MAT                787544 non-null int64\n",
      "SEMIO_VERT               787544 non-null int64\n",
      "SEMIO_LUST               787544 non-null int64\n",
      "SEMIO_ERL                787544 non-null int64\n",
      "SEMIO_KULT               787544 non-null int64\n",
      "SEMIO_RAT                787544 non-null int64\n",
      "SEMIO_KRIT               787544 non-null int64\n",
      "SEMIO_DOM                787544 non-null int64\n",
      "SEMIO_KAEM               787544 non-null int64\n",
      "SEMIO_PFLICHT            787544 non-null int64\n",
      "SEMIO_TRADV              787544 non-null int64\n",
      "SOHO_KZ                  787544 non-null float64\n",
      "ANZ_PERSONEN             787544 non-null float64\n",
      "ANZ_TITEL                787544 non-null float64\n",
      "HH_EINKOMMEN_SCORE       787544 non-null float64\n",
      "W_KEIT_KIND_HH           729735 non-null float64\n",
      "WOHNDAUER_2008           787544 non-null float64\n",
      "ANZ_HAUSHALTE_AKTIV      781457 non-null float64\n",
      "ANZ_HH_TITEL             784034 non-null float64\n",
      "KONSUMNAEHE              787488 non-null float64\n",
      "MIN_GEBAEUDEJAHR         787544 non-null float64\n",
      "OST_WEST_KZ              787544 non-null int64\n",
      "KBA05_ANTG1              757394 non-null float64\n",
      "KBA05_ANTG2              757394 non-null float64\n",
      "KBA05_ANTG3              757394 non-null float64\n",
      "KBA05_ANTG4              757394 non-null float64\n",
      "KBA05_GBZ                757394 non-null float64\n",
      "BALLRAUM                 786978 non-null float64\n",
      "EWDICHTE                 786978 non-null float64\n",
      "INNENSTADT               786978 non-null float64\n",
      "GEBAEUDETYP_RASTER       787539 non-null float64\n",
      "KKK                      731501 non-null float64\n",
      "MOBI_REGIO               757394 non-null float64\n",
      "ONLINE_AFFINITAET        783249 non-null float64\n",
      "REGIOTYP                 731501 non-null float64\n",
      "KBA13_ANZAHL_PKW         779463 non-null float64\n",
      "PLZ8_ANTG1               774067 non-null float64\n",
      "PLZ8_ANTG2               774067 non-null float64\n",
      "PLZ8_ANTG3               774067 non-null float64\n",
      "PLZ8_ANTG4               774067 non-null float64\n",
      "PLZ8_HHZ                 774067 non-null float64\n",
      "PLZ8_GBZ                 774067 non-null float64\n",
      "ARBEIT                   783386 non-null float64\n",
      "ORTSGR_KLS9              783479 non-null float64\n",
      "RELAT_AB                 783386 non-null float64\n",
      "GENERATION               760375 non-null float64\n",
      "MOVEMENT                 760375 non-null float64\n",
      "WEALTH                   783236 non-null float64\n",
      "LIFE_STAGE               783236 non-null float64\n",
      "dtypes: float64(40), int64(23)\n",
      "memory usage: 384.5 MB\n"
     ]
    }
   ],
   "source": [
    "azdias_new.info()"
   ]
  },
  {
   "cell_type": "code",
   "execution_count": 45,
   "metadata": {},
   "outputs": [],
   "source": [
    "cln_data = Imputer(strategy='most_frequent')\n",
    "azdias_clean = pd.DataFrame(cln_data.fit_transform(azdias_new))"
   ]
  },
  {
   "cell_type": "code",
   "execution_count": 46,
   "metadata": {},
   "outputs": [],
   "source": [
    "azdias_clean.columns = azdias_new.columns\n",
    "azdias_clean.index = azdias_new.index"
   ]
  },
  {
   "cell_type": "code",
   "execution_count": 47,
   "metadata": {},
   "outputs": [
    {
     "data": {
      "text/plain": [
       "0"
      ]
     },
     "execution_count": 47,
     "metadata": {},
     "output_type": "execute_result"
    }
   ],
   "source": [
    "azdias_clean.isnull().sum().sum()"
   ]
  },
  {
   "cell_type": "code",
   "execution_count": 48,
   "metadata": {},
   "outputs": [],
   "source": [
    "# Apply feature scaling to the general population demographics data.\n",
    "\n",
    "scaler = StandardScaler()\n",
    "azdias_scaled = scaler.fit_transform(azdias_clean)"
   ]
  },
  {
   "cell_type": "code",
   "execution_count": 49,
   "metadata": {},
   "outputs": [],
   "source": [
    "azdias_scaled = pd.DataFrame(azdias_scaled, columns=azdias_clean.columns.tolist())"
   ]
  },
  {
   "cell_type": "code",
   "execution_count": 50,
   "metadata": {},
   "outputs": [
    {
     "data": {
      "text/html": [
       "<div>\n",
       "<style scoped>\n",
       "    .dataframe tbody tr th:only-of-type {\n",
       "        vertical-align: middle;\n",
       "    }\n",
       "\n",
       "    .dataframe tbody tr th {\n",
       "        vertical-align: top;\n",
       "    }\n",
       "\n",
       "    .dataframe thead th {\n",
       "        text-align: right;\n",
       "    }\n",
       "</style>\n",
       "<table border=\"1\" class=\"dataframe\">\n",
       "  <thead>\n",
       "    <tr style=\"text-align: right;\">\n",
       "      <th></th>\n",
       "      <th>ALTERSKATEGORIE_GROB</th>\n",
       "      <th>ANREDE_KZ</th>\n",
       "      <th>FINANZ_MINIMALIST</th>\n",
       "      <th>FINANZ_SPARER</th>\n",
       "      <th>FINANZ_VORSORGER</th>\n",
       "      <th>FINANZ_ANLEGER</th>\n",
       "      <th>FINANZ_UNAUFFAELLIGER</th>\n",
       "      <th>FINANZ_HAUSBAUER</th>\n",
       "      <th>GREEN_AVANTGARDE</th>\n",
       "      <th>HEALTH_TYP</th>\n",
       "      <th>...</th>\n",
       "      <th>PLZ8_ANTG4</th>\n",
       "      <th>PLZ8_HHZ</th>\n",
       "      <th>PLZ8_GBZ</th>\n",
       "      <th>ARBEIT</th>\n",
       "      <th>ORTSGR_KLS9</th>\n",
       "      <th>RELAT_AB</th>\n",
       "      <th>GENERATION</th>\n",
       "      <th>MOVEMENT</th>\n",
       "      <th>WEALTH</th>\n",
       "      <th>LIFE_STAGE</th>\n",
       "    </tr>\n",
       "  </thead>\n",
       "  <tbody>\n",
       "    <tr>\n",
       "      <th>0</th>\n",
       "      <td>-1.767361</td>\n",
       "      <td>0.958218</td>\n",
       "      <td>-1.490890</td>\n",
       "      <td>1.539288</td>\n",
       "      <td>-1.043949</td>\n",
       "      <td>1.467187</td>\n",
       "      <td>0.972646</td>\n",
       "      <td>1.331434</td>\n",
       "      <td>-0.531361</td>\n",
       "      <td>1.007368</td>\n",
       "      <td>...</td>\n",
       "      <td>0.430250</td>\n",
       "      <td>1.442647</td>\n",
       "      <td>0.567139</td>\n",
       "      <td>-0.176260</td>\n",
       "      <td>-0.130464</td>\n",
       "      <td>0.681612</td>\n",
       "      <td>1.103212</td>\n",
       "      <td>0.531361</td>\n",
       "      <td>1.172785</td>\n",
       "      <td>-1.250002</td>\n",
       "    </tr>\n",
       "    <tr>\n",
       "      <th>1</th>\n",
       "      <td>0.198968</td>\n",
       "      <td>0.958218</td>\n",
       "      <td>-1.490890</td>\n",
       "      <td>0.866362</td>\n",
       "      <td>-1.770337</td>\n",
       "      <td>-0.569182</td>\n",
       "      <td>0.256102</td>\n",
       "      <td>1.331434</td>\n",
       "      <td>1.881961</td>\n",
       "      <td>1.007368</td>\n",
       "      <td>...</td>\n",
       "      <td>-0.946004</td>\n",
       "      <td>0.410420</td>\n",
       "      <td>0.567139</td>\n",
       "      <td>-0.176260</td>\n",
       "      <td>-0.130464</td>\n",
       "      <td>-0.793065</td>\n",
       "      <td>1.103212</td>\n",
       "      <td>-1.881961</td>\n",
       "      <td>-0.872444</td>\n",
       "      <td>0.764297</td>\n",
       "    </tr>\n",
       "    <tr>\n",
       "      <th>2</th>\n",
       "      <td>1.182132</td>\n",
       "      <td>0.958218</td>\n",
       "      <td>0.686283</td>\n",
       "      <td>-0.479491</td>\n",
       "      <td>1.135215</td>\n",
       "      <td>-0.569182</td>\n",
       "      <td>-1.176986</td>\n",
       "      <td>-0.808128</td>\n",
       "      <td>-0.531361</td>\n",
       "      <td>-0.314938</td>\n",
       "      <td>...</td>\n",
       "      <td>-0.946004</td>\n",
       "      <td>-0.621808</td>\n",
       "      <td>0.567139</td>\n",
       "      <td>-1.179397</td>\n",
       "      <td>-1.001302</td>\n",
       "      <td>-0.055727</td>\n",
       "      <td>-0.262061</td>\n",
       "      <td>0.531361</td>\n",
       "      <td>-1.554187</td>\n",
       "      <td>-0.578569</td>\n",
       "    </tr>\n",
       "    <tr>\n",
       "      <th>3</th>\n",
       "      <td>0.198968</td>\n",
       "      <td>-1.043604</td>\n",
       "      <td>0.686283</td>\n",
       "      <td>0.193436</td>\n",
       "      <td>0.408827</td>\n",
       "      <td>-1.247971</td>\n",
       "      <td>0.256102</td>\n",
       "      <td>-0.808128</td>\n",
       "      <td>-0.531361</td>\n",
       "      <td>1.007368</td>\n",
       "      <td>...</td>\n",
       "      <td>0.430250</td>\n",
       "      <td>-0.621808</td>\n",
       "      <td>-0.339353</td>\n",
       "      <td>0.826878</td>\n",
       "      <td>0.304956</td>\n",
       "      <td>1.418951</td>\n",
       "      <td>-0.262061</td>\n",
       "      <td>0.531361</td>\n",
       "      <td>0.491042</td>\n",
       "      <td>0.092864</td>\n",
       "    </tr>\n",
       "    <tr>\n",
       "      <th>4</th>\n",
       "      <td>-1.767361</td>\n",
       "      <td>0.958218</td>\n",
       "      <td>-0.039441</td>\n",
       "      <td>-1.152417</td>\n",
       "      <td>1.135215</td>\n",
       "      <td>-0.569182</td>\n",
       "      <td>-0.460442</td>\n",
       "      <td>1.331434</td>\n",
       "      <td>-0.531361</td>\n",
       "      <td>1.007368</td>\n",
       "      <td>...</td>\n",
       "      <td>0.430250</td>\n",
       "      <td>1.442647</td>\n",
       "      <td>1.473631</td>\n",
       "      <td>-1.179397</td>\n",
       "      <td>-1.001302</td>\n",
       "      <td>-0.055727</td>\n",
       "      <td>-1.627334</td>\n",
       "      <td>0.531361</td>\n",
       "      <td>1.172785</td>\n",
       "      <td>0.764297</td>\n",
       "    </tr>\n",
       "  </tbody>\n",
       "</table>\n",
       "<p>5 rows × 63 columns</p>\n",
       "</div>"
      ],
      "text/plain": [
       "   ALTERSKATEGORIE_GROB  ANREDE_KZ  FINANZ_MINIMALIST  FINANZ_SPARER  \\\n",
       "0             -1.767361   0.958218          -1.490890       1.539288   \n",
       "1              0.198968   0.958218          -1.490890       0.866362   \n",
       "2              1.182132   0.958218           0.686283      -0.479491   \n",
       "3              0.198968  -1.043604           0.686283       0.193436   \n",
       "4             -1.767361   0.958218          -0.039441      -1.152417   \n",
       "\n",
       "   FINANZ_VORSORGER  FINANZ_ANLEGER  FINANZ_UNAUFFAELLIGER  FINANZ_HAUSBAUER  \\\n",
       "0         -1.043949        1.467187               0.972646          1.331434   \n",
       "1         -1.770337       -0.569182               0.256102          1.331434   \n",
       "2          1.135215       -0.569182              -1.176986         -0.808128   \n",
       "3          0.408827       -1.247971               0.256102         -0.808128   \n",
       "4          1.135215       -0.569182              -0.460442          1.331434   \n",
       "\n",
       "   GREEN_AVANTGARDE  HEALTH_TYP     ...      PLZ8_ANTG4  PLZ8_HHZ  PLZ8_GBZ  \\\n",
       "0         -0.531361    1.007368     ...        0.430250  1.442647  0.567139   \n",
       "1          1.881961    1.007368     ...       -0.946004  0.410420  0.567139   \n",
       "2         -0.531361   -0.314938     ...       -0.946004 -0.621808  0.567139   \n",
       "3         -0.531361    1.007368     ...        0.430250 -0.621808 -0.339353   \n",
       "4         -0.531361    1.007368     ...        0.430250  1.442647  1.473631   \n",
       "\n",
       "     ARBEIT  ORTSGR_KLS9  RELAT_AB  GENERATION  MOVEMENT    WEALTH  LIFE_STAGE  \n",
       "0 -0.176260    -0.130464  0.681612    1.103212  0.531361  1.172785   -1.250002  \n",
       "1 -0.176260    -0.130464 -0.793065    1.103212 -1.881961 -0.872444    0.764297  \n",
       "2 -1.179397    -1.001302 -0.055727   -0.262061  0.531361 -1.554187   -0.578569  \n",
       "3  0.826878     0.304956  1.418951   -0.262061  0.531361  0.491042    0.092864  \n",
       "4 -1.179397    -1.001302 -0.055727   -1.627334  0.531361  1.172785    0.764297  \n",
       "\n",
       "[5 rows x 63 columns]"
      ]
     },
     "execution_count": 50,
     "metadata": {},
     "output_type": "execute_result"
    }
   ],
   "source": [
    "azdias_scaled.head()"
   ]
  },
  {
   "cell_type": "markdown",
   "metadata": {},
   "source": [
    "### Discussion 2.1: Apply Feature Scaling\n",
    "\n",
    "- I identified 573,274 missing values in the dataset and used Imputer to replace them with the most frequent value in the various columns\n",
    "- I used StandardScaler to scale all the features in the dataset"
   ]
  },
  {
   "cell_type": "markdown",
   "metadata": {},
   "source": [
    "### Step 2.2: Perform Dimensionality Reduction\n",
    "\n",
    "On your scaled data, you are now ready to apply dimensionality reduction techniques.\n",
    "\n",
    "- Use sklearn's [PCA](http://scikit-learn.org/stable/modules/generated/sklearn.decomposition.PCA.html) class to apply principal component analysis on the data, thus finding the vectors of maximal variance in the data. To start, you should not set any parameters (so all components are computed) or set a number of components that is at least half the number of features (so there's enough features to see the general trend in variability).\n",
    "- Check out the ratio of variance explained by each principal component as well as the cumulative variance explained. Try plotting the cumulative or sequential values using matplotlib's [`plot()`](https://matplotlib.org/api/_as_gen/matplotlib.pyplot.plot.html) function. Based on what you find, select a value for the number of transformed features you'll retain for the clustering part of the project.\n",
    "- Once you've made a choice for the number of components to keep, make sure you re-fit a PCA instance to perform the decided-on transformation."
   ]
  },
  {
   "cell_type": "code",
   "execution_count": 51,
   "metadata": {},
   "outputs": [
    {
     "data": {
      "text/plain": [
       "PCA(copy=True, iterated_power='auto', n_components=None, random_state=None,\n",
       "  svd_solver='auto', tol=0.0, whiten=False)"
      ]
     },
     "execution_count": 51,
     "metadata": {},
     "output_type": "execute_result"
    }
   ],
   "source": [
    "# Apply PCA to the data.\n",
    "\n",
    "pca = PCA()\n",
    "pca.fit(azdias_scaled)"
   ]
  },
  {
   "cell_type": "code",
   "execution_count": 52,
   "metadata": {},
   "outputs": [
    {
     "data": {
      "image/png": "[encoded data removed]",
      "text/plain": [
       "<matplotlib.figure.Figure at 0x7f323634cf60>"
      ]
     },
     "metadata": {
      "needs_background": "light"
     },
     "output_type": "display_data"
    }
   ],
   "source": [
    "# Investigate the variance accounted for by each principal component.\n",
    "\n",
    "plt.bar(np.arange(len(pca.explained_variance_ratio_)), pca.explained_variance_ratio_)\n",
    "plt.xlabel(\"Principal Component\")\n",
    "plt.ylabel(\"Variance\")\n",
    "plt.show()"
   ]
  },
  {
   "cell_type": "code",
   "execution_count": 53,
   "metadata": {},
   "outputs": [
    {
     "data": {
      "image/png": "[encoded data removed]",
      "text/plain": [
       "<matplotlib.figure.Figure at 0x7f323649a828>"
      ]
     },
     "metadata": {
      "needs_background": "light"
     },
     "output_type": "display_data"
    }
   ],
   "source": [
    "plt.plot(np.arange(len(pca.explained_variance_ratio_)),np.cumsum(pca.explained_variance_ratio_))\n",
    "plt.xlabel(\"Principal Component\")\n",
    "plt.ylabel(\"Variance\")\n",
    "plt.show()"
   ]
  },
  {
   "cell_type": "code",
   "execution_count": 54,
   "metadata": {},
   "outputs": [],
   "source": [
    "# Re-apply PCA to the data while selecting for number of components to retain.\n",
    "\n",
    "pca_retain = PCA(n_components=20)\n",
    "azdias_pca = pca_retain.fit_transform(azdias_scaled)"
   ]
  },
  {
   "cell_type": "markdown",
   "metadata": {},
   "source": [
    "### Discussion 2.2: Perform Dimensionality Reduction\n",
    "\n",
    "- 20 components contributes over 80% variance, hence the need to retain 20 components/ transformed features for the analysis"
   ]
  },
  {
   "cell_type": "markdown",
   "metadata": {},
   "source": [
    "### Step 2.3: Interpret Principal Components\n",
    "\n",
    "Now that we have our transformed principal components, it's a nice idea to check out the weight of each variable on the first few components to see if they can be interpreted in some fashion.\n",
    "\n",
    "As a reminder, each principal component is a unit vector that points in the direction of highest variance (after accounting for the variance captured by earlier principal components). The further a weight is from zero, the more the principal component is in the direction of the corresponding feature. If two features have large weights of the same sign (both positive or both negative), then increases in one tend expect to be associated with increases in the other. To contrast, features with different signs can be expected to show a negative correlation: increases in one variable should result in a decrease in the other.\n",
    "\n",
    "- To investigate the features, you should map each weight to their corresponding feature name, then sort the features according to weight. The most interesting features for each principal component, then, will be those at the beginning and end of the sorted list. Use the data dictionary document to help you understand these most prominent features, their relationships, and what a positive or negative value on the principal component might indicate.\n",
    "- You should investigate and interpret feature associations from the first three principal components in this substep. To help facilitate this, you should write a function that you can call at any time to print the sorted list of feature weights, for the *i*-th principal component. This might come in handy in the next step of the project, when you interpret the tendencies of the discovered clusters."
   ]
  },
  {
   "cell_type": "code",
   "execution_count": 55,
   "metadata": {},
   "outputs": [],
   "source": [
    "# Map weights for the first principal component to corresponding feature names\n",
    "# and then print the linked values, sorted by weight.\n",
    "# HINT: Try defining a function here or in a new cell that you can reuse in the\n",
    "# other cells.\n",
    "\n",
    "def pca_weight(df, pca, i):\n",
    "    df_weight = pd.DataFrame(pca.components_,columns=list(df.columns)).iloc[i]\n",
    "    df_weight.sort_values(ascending=False, inplace=True)\n",
    "    return df_weight"
   ]
  },
  {
   "cell_type": "code",
   "execution_count": 56,
   "metadata": {},
   "outputs": [
    {
     "data": {
      "text/plain": [
       "PLZ8_ANTG3               0.225151\n",
       "PLZ8_ANTG4               0.217217\n",
       "WEALTH                   0.204964\n",
       "HH_EINKOMMEN_SCORE       0.202852\n",
       "ORTSGR_KLS9              0.196156\n",
       "EWDICHTE                 0.193997\n",
       "FINANZ_HAUSBAUER         0.160191\n",
       "KBA05_ANTG4              0.153661\n",
       "PLZ8_ANTG2               0.153351\n",
       "FINANZ_SPARER            0.152619\n",
       "ARBEIT                   0.142380\n",
       "KBA05_ANTG3              0.136655\n",
       "ANZ_HAUSHALTE_AKTIV      0.135591\n",
       "RELAT_AB                 0.134593\n",
       "SEMIO_PFLICHT            0.120741\n",
       "SEMIO_REL                0.118180\n",
       "GENERATION               0.112043\n",
       "MOVEMENT                 0.110754\n",
       "SEMIO_RAT                0.099662\n",
       "SEMIO_TRADV              0.093657\n",
       "SEMIO_MAT                0.083519\n",
       "FINANZ_UNAUFFAELLIGER    0.081133\n",
       "SEMIO_FAM                0.081095\n",
       "SEMIO_KULT               0.075507\n",
       "FINANZ_ANLEGER           0.074742\n",
       "REGIOTYP                 0.060796\n",
       "OST_WEST_KZ              0.053729\n",
       "SEMIO_SOZ                0.042974\n",
       "PLZ8_HHZ                 0.041823\n",
       "KKK                      0.039680\n",
       "                           ...   \n",
       "ANZ_HH_TITEL             0.033697\n",
       "SEMIO_DOM                0.023458\n",
       "KBA05_ANTG2              0.013426\n",
       "ANREDE_KZ                0.007532\n",
       "SEMIO_KRIT               0.003660\n",
       "SOHO_KZ                 -0.001950\n",
       "ANZ_TITEL               -0.004358\n",
       "RETOURTYP_BK_S          -0.021791\n",
       "SEMIO_VERT              -0.040034\n",
       "ONLINE_AFFINITAET       -0.041294\n",
       "MIN_GEBAEUDEJAHR        -0.049142\n",
       "WOHNDAUER_2008          -0.062506\n",
       "KBA13_ANZAHL_PKW        -0.074859\n",
       "SEMIO_LUST              -0.077396\n",
       "ANZ_PERSONEN            -0.078321\n",
       "SEMIO_ERL               -0.080196\n",
       "GREEN_AVANTGARDE        -0.110754\n",
       "GEBAEUDETYP_RASTER      -0.116972\n",
       "FINANZ_VORSORGER        -0.120024\n",
       "ALTERSKATEGORIE_GROB    -0.125103\n",
       "LIFE_STAGE              -0.125155\n",
       "BALLRAUM                -0.126726\n",
       "INNENSTADT              -0.164022\n",
       "PLZ8_GBZ                -0.166374\n",
       "KONSUMNAEHE             -0.167051\n",
       "KBA05_GBZ               -0.215735\n",
       "KBA05_ANTG1             -0.215909\n",
       "FINANZ_MINIMALIST       -0.222736\n",
       "PLZ8_ANTG1              -0.225308\n",
       "MOBI_REGIO              -0.227345\n",
       "Name: 0, Length: 63, dtype: float64"
      ]
     },
     "execution_count": 56,
     "metadata": {},
     "output_type": "execute_result"
    }
   ],
   "source": [
    "pca_weight(azdias_scaled, pca_retain, 0)"
   ]
  },
  {
   "cell_type": "code",
   "execution_count": 57,
   "metadata": {},
   "outputs": [
    {
     "data": {
      "text/plain": [
       "ALTERSKATEGORIE_GROB     0.256820\n",
       "SEMIO_ERL                0.230009\n",
       "FINANZ_VORSORGER         0.229203\n",
       "SEMIO_LUST               0.179718\n",
       "RETOURTYP_BK_S           0.162352\n",
       "FINANZ_HAUSBAUER         0.120527\n",
       "SEMIO_KRIT               0.118125\n",
       "SEMIO_KAEM               0.116112\n",
       "W_KEIT_KIND_HH           0.113975\n",
       "PLZ8_ANTG3               0.099799\n",
       "EWDICHTE                 0.097466\n",
       "ORTSGR_KLS9              0.096289\n",
       "PLZ8_ANTG4               0.095286\n",
       "ANREDE_KZ                0.093226\n",
       "WEALTH                   0.079095\n",
       "KBA05_ANTG4              0.074861\n",
       "SEMIO_DOM                0.073226\n",
       "ARBEIT                   0.071219\n",
       "PLZ8_ANTG2               0.068859\n",
       "RELAT_AB                 0.068767\n",
       "ANZ_HAUSHALTE_AKTIV      0.065929\n",
       "FINANZ_MINIMALIST        0.060318\n",
       "HH_EINKOMMEN_SCORE       0.060053\n",
       "WOHNDAUER_2008           0.057151\n",
       "KBA05_ANTG3              0.049786\n",
       "ANZ_HH_TITEL             0.031999\n",
       "OST_WEST_KZ              0.027532\n",
       "MOVEMENT                 0.018075\n",
       "PLZ8_HHZ                 0.014554\n",
       "REGIOTYP                 0.013764\n",
       "                           ...   \n",
       "SOHO_KZ                 -0.002112\n",
       "KBA05_ANTG2             -0.003632\n",
       "GREEN_AVANTGARDE        -0.018075\n",
       "KBA13_ANZAHL_PKW        -0.036555\n",
       "MIN_GEBAEUDEJAHR        -0.045982\n",
       "GEBAEUDETYP_RASTER      -0.046686\n",
       "HEALTH_TYP              -0.058751\n",
       "BALLRAUM                -0.064613\n",
       "ANZ_PERSONEN            -0.064651\n",
       "SEMIO_VERT              -0.071964\n",
       "KONSUMNAEHE             -0.074022\n",
       "PLZ8_GBZ                -0.076410\n",
       "KBA05_ANTG1             -0.077702\n",
       "INNENSTADT              -0.079462\n",
       "MOBI_REGIO              -0.085143\n",
       "KBA05_GBZ               -0.093263\n",
       "PLZ8_ANTG1              -0.097398\n",
       "SEMIO_SOZ               -0.103737\n",
       "SEMIO_MAT               -0.160049\n",
       "ONLINE_AFFINITAET       -0.164723\n",
       "SEMIO_RAT               -0.166917\n",
       "SEMIO_FAM               -0.183798\n",
       "FINANZ_ANLEGER          -0.203306\n",
       "SEMIO_KULT              -0.220378\n",
       "FINANZ_UNAUFFAELLIGER   -0.225225\n",
       "SEMIO_PFLICHT           -0.226255\n",
       "SEMIO_TRADV             -0.228200\n",
       "FINANZ_SPARER           -0.231999\n",
       "GENERATION              -0.239165\n",
       "SEMIO_REL               -0.254362\n",
       "Name: 1, Length: 63, dtype: float64"
      ]
     },
     "execution_count": 57,
     "metadata": {},
     "output_type": "execute_result"
    }
   ],
   "source": [
    "# Map weights for the second principal component to corresponding feature names\n",
    "# and then print the linked values, sorted by weight.\n",
    "\n",
    "pca_weight(azdias_scaled, pca_retain, 1)"
   ]
  },
  {
   "cell_type": "code",
   "execution_count": 58,
   "metadata": {},
   "outputs": [
    {
     "data": {
      "text/plain": [
       "GREEN_AVANTGARDE         0.399458\n",
       "EWDICHTE                 0.260522\n",
       "ORTSGR_KLS9              0.247653\n",
       "ONLINE_AFFINITAET        0.137452\n",
       "PLZ8_HHZ                 0.135724\n",
       "SEMIO_DOM                0.115484\n",
       "PLZ8_ANTG2               0.107524\n",
       "ANZ_PERSONEN             0.103579\n",
       "PLZ8_ANTG3               0.100122\n",
       "KBA05_ANTG1              0.099711\n",
       "RELAT_AB                 0.096250\n",
       "PLZ8_ANTG4               0.080543\n",
       "FINANZ_UNAUFFAELLIGER    0.080199\n",
       "SEMIO_KAEM               0.077944\n",
       "MOBI_REGIO               0.067982\n",
       "SEMIO_TRADV              0.063848\n",
       "FINANZ_MINIMALIST        0.062753\n",
       "LIFE_STAGE               0.061028\n",
       "KBA05_GBZ                0.056122\n",
       "SEMIO_RAT                0.056025\n",
       "ARBEIT                   0.052614\n",
       "ANZ_TITEL                0.049156\n",
       "KBA13_ANZAHL_PKW         0.046045\n",
       "ANREDE_KZ                0.038662\n",
       "ANZ_HH_TITEL             0.036326\n",
       "PLZ8_GBZ                 0.033857\n",
       "GENERATION               0.030332\n",
       "SEMIO_MAT                0.019998\n",
       "SEMIO_PFLICHT            0.019696\n",
       "SEMIO_KRIT               0.012941\n",
       "                           ...   \n",
       "HEALTH_TYP               0.002432\n",
       "SOHO_KZ                  0.002084\n",
       "RETOURTYP_BK_S           0.001182\n",
       "SEMIO_LUST              -0.000315\n",
       "FINANZ_SPARER           -0.002273\n",
       "SEMIO_REL               -0.002597\n",
       "SEMIO_VERT              -0.018128\n",
       "FINANZ_VORSORGER        -0.018351\n",
       "SEMIO_FAM               -0.020756\n",
       "SEMIO_ERL               -0.025942\n",
       "ANZ_HAUSHALTE_AKTIV     -0.030029\n",
       "SEMIO_KULT              -0.033011\n",
       "KBA05_ANTG4             -0.033087\n",
       "ALTERSKATEGORIE_GROB    -0.046969\n",
       "MIN_GEBAEUDEJAHR        -0.047161\n",
       "PLZ8_ANTG1              -0.050101\n",
       "KBA05_ANTG3             -0.071733\n",
       "GEBAEUDETYP_RASTER      -0.087292\n",
       "W_KEIT_KIND_HH          -0.096436\n",
       "FINANZ_HAUSBAUER        -0.102879\n",
       "OST_WEST_KZ             -0.109948\n",
       "WEALTH                  -0.122756\n",
       "FINANZ_ANLEGER          -0.123349\n",
       "KONSUMNAEHE             -0.150469\n",
       "REGIOTYP                -0.217442\n",
       "INNENSTADT              -0.219392\n",
       "BALLRAUM                -0.233895\n",
       "HH_EINKOMMEN_SCORE      -0.243353\n",
       "KKK                     -0.275068\n",
       "MOVEMENT                -0.399458\n",
       "Name: 3, Length: 63, dtype: float64"
      ]
     },
     "execution_count": 58,
     "metadata": {},
     "output_type": "execute_result"
    }
   ],
   "source": [
    "# Map weights for the third principal component to corresponding feature names\n",
    "# and then print the linked values, sorted by weight.\n",
    "\n",
    "pca_weight(azdias_scaled, pca_retain, 3)"
   ]
  },
  {
   "cell_type": "markdown",
   "metadata": {},
   "source": [
    "### Discussion 2.3: Interpret Principal Components\n",
    "\n",
    "- The first principal component shows a high positive correlation between PLZ8_ANTG3, PLZ8_ANTG4, WEALTH.\n",
    "\n",
    "- and a high negative correlation between PLZ8_ANTG1, KBA05_ANTG1, MOBI_REGIO\n",
    "\n",
    "- The second principal component shows a high positive correlation between ALTERSKATEGORIE_GROB, SEMIO_ERL, FINANZ_VORSORGER and a high negative correlation between FINANZ_SPARER, GENERATION, SEMIO_REL\n",
    "\n",
    "- The first principal component shows a high positive correlation between  GREEN_AVANTGARDE, EWDICHTE, ORTSGR_KLS9 and a high negative correlation between HH_EINKOMMEN_SCORE, KKK, MOVEMENT"
   ]
  },
  {
   "cell_type": "markdown",
   "metadata": {},
   "source": [
    "## Step 3: Clustering\n",
    "\n",
    "### Step 3.1: Apply Clustering to General Population\n",
    "\n",
    "You've assessed and cleaned the demographics data, then scaled and transformed them. Now, it's time to see how the data clusters in the principal components space. In this substep, you will apply k-means clustering to the dataset and use the average within-cluster distances from each point to their assigned cluster's centroid to decide on a number of clusters to keep.\n",
    "\n",
    "- Use sklearn's [KMeans](http://scikit-learn.org/stable/modules/generated/sklearn.cluster.KMeans.html#sklearn.cluster.KMeans) class to perform k-means clustering on the PCA-transformed data.\n",
    "- Then, compute the average difference from each point to its assigned cluster's center. **Hint**: The KMeans object's `.score()` method might be useful here, but note that in sklearn, scores tend to be defined so that larger is better. Try applying it to a small, toy dataset, or use an internet search to help your understanding.\n",
    "- Perform the above two steps for a number of different cluster counts. You can then see how the average distance decreases with an increasing number of clusters. However, each additional cluster provides a smaller net benefit. Use this fact to select a final number of clusters in which to group the data. **Warning**: because of the large size of the dataset, it can take a long time for the algorithm to resolve. The more clusters to fit, the longer the algorithm will take. You should test for cluster counts through at least 10 clusters to get the full picture, but you shouldn't need to test for a number of clusters above about 30.\n",
    "- Once you've selected a final number of clusters to use, re-fit a KMeans instance to perform the clustering operation. Make sure that you also obtain the cluster assignments for the general demographics data, since you'll be using them in the final Step 3.3."
   ]
  },
  {
   "cell_type": "code",
   "execution_count": 59,
   "metadata": {},
   "outputs": [],
   "source": [
    "# Over a number of different cluster counts...\n",
    "# run k-means clustering on the data\n",
    "# compute the average within-cluster distances.\n",
    "\n",
    "num_clusters = np.arange(11,21)\n",
    "scores=[]\n",
    "for k in num_clusters:\n",
    "    k_mean = KMeans(n_clusters=k)\n",
    "    model = k_mean.fit(azdias_pca)   \n",
    "    score = np.abs(model.score(azdias_pca))\n",
    "    scores.append(score)"
   ]
  },
  {
   "cell_type": "code",
   "execution_count": 60,
   "metadata": {},
   "outputs": [
    {
     "data": {
      "image/png": "[encoded data removed]",
      "text/plain": [
       "<matplotlib.figure.Figure at 0x7f32362fc8d0>"
      ]
     },
     "metadata": {
      "needs_background": "light"
     },
     "output_type": "display_data"
    }
   ],
   "source": [
    "# Investigate the change in within-cluster distance across number of clusters.\n",
    "# HINT: Use matplotlib's plot function to visualize this relationship.\n",
    "\n",
    "plt.plot(num_clusters, scores, marker='o', linestyle='-')\n",
    "plt.xlabel('Number of clusters')\n",
    "plt.ylabel('Scores')\n",
    "plt.show()"
   ]
  },
  {
   "cell_type": "code",
   "execution_count": 61,
   "metadata": {},
   "outputs": [],
   "source": [
    "# Re-fit the k-means model with the selected number of clusters and obtain\n",
    "# cluster predictions for the general population demographics data.\n",
    "\n",
    "k_mean = KMeans(n_clusters = 17)\n",
    "model = k_mean.fit(azdias_pca)\n",
    "azdias_pred = model.predict(azdias_pca)"
   ]
  },
  {
   "cell_type": "markdown",
   "metadata": {},
   "source": [
    "### Discussion 3.1: Apply Clustering to General Population\n",
    "\n",
    "The chart above shows that the elbow is at 17, so I have segmented the population into 17 clusters"
   ]
  },
  {
   "cell_type": "markdown",
   "metadata": {},
   "source": [
    "### Step 3.2: Apply All Steps to the Customer Data\n",
    "\n",
    "Now that you have clusters and cluster centers for the general population, it's time to see how the customer data maps on to those clusters. Take care to not confuse this for re-fitting all of the models to the customer data. Instead, you're going to use the fits from the general population to clean, transform, and cluster the customer data. In the last step of the project, you will interpret how the general population fits apply to the customer data.\n",
    "\n",
    "- Don't forget when loading in the customers data, that it is semicolon (`;`) delimited.\n",
    "- Apply the same feature wrangling, selection, and engineering steps to the customer demographics using the `clean_data()` function you created earlier. (You can assume that the customer demographics data has similar meaning behind missing data patterns as the general demographics data.)\n",
    "- Use the sklearn objects from the general demographics data, and apply their transformations to the customers data. That is, you should not be using a `.fit()` or `.fit_transform()` method to re-fit the old objects, nor should you be creating new sklearn objects! Carry the data through the feature scaling, PCA, and clustering steps, obtaining cluster assignments for all of the data in the customer demographics data."
   ]
  },
  {
   "cell_type": "code",
   "execution_count": 62,
   "metadata": {},
   "outputs": [],
   "source": [
    "# Load in the customer demographics data.\n",
    "customers = pd.read_csv('Udacity_CUSTOMERS_Subset.csv',delimiter=';') "
   ]
  },
  {
   "cell_type": "code",
   "execution_count": 63,
   "metadata": {},
   "outputs": [],
   "source": [
    "# Apply preprocessing, feature transformation, and clustering from the general\n",
    "# demographics onto the customer data, obtaining cluster predictions for the\n",
    "# customer demographics data.\n",
    "\n",
    "customers_new = clean_data(customers)"
   ]
  },
  {
   "cell_type": "code",
   "execution_count": 64,
   "metadata": {},
   "outputs": [
    {
     "data": {
      "text/html": [
       "<div>\n",
       "<style scoped>\n",
       "    .dataframe tbody tr th:only-of-type {\n",
       "        vertical-align: middle;\n",
       "    }\n",
       "\n",
       "    .dataframe tbody tr th {\n",
       "        vertical-align: top;\n",
       "    }\n",
       "\n",
       "    .dataframe thead th {\n",
       "        text-align: right;\n",
       "    }\n",
       "</style>\n",
       "<table border=\"1\" class=\"dataframe\">\n",
       "  <thead>\n",
       "    <tr style=\"text-align: right;\">\n",
       "      <th></th>\n",
       "      <th>ALTERSKATEGORIE_GROB</th>\n",
       "      <th>ANREDE_KZ</th>\n",
       "      <th>FINANZ_MINIMALIST</th>\n",
       "      <th>FINANZ_SPARER</th>\n",
       "      <th>FINANZ_VORSORGER</th>\n",
       "      <th>FINANZ_ANLEGER</th>\n",
       "      <th>FINANZ_UNAUFFAELLIGER</th>\n",
       "      <th>FINANZ_HAUSBAUER</th>\n",
       "      <th>GREEN_AVANTGARDE</th>\n",
       "      <th>HEALTH_TYP</th>\n",
       "      <th>...</th>\n",
       "      <th>PLZ8_ANTG4</th>\n",
       "      <th>PLZ8_HHZ</th>\n",
       "      <th>PLZ8_GBZ</th>\n",
       "      <th>ARBEIT</th>\n",
       "      <th>ORTSGR_KLS9</th>\n",
       "      <th>RELAT_AB</th>\n",
       "      <th>GENERATION</th>\n",
       "      <th>MOVEMENT</th>\n",
       "      <th>WEALTH</th>\n",
       "      <th>LIFE_STAGE</th>\n",
       "    </tr>\n",
       "  </thead>\n",
       "  <tbody>\n",
       "    <tr>\n",
       "      <th>0</th>\n",
       "      <td>4</td>\n",
       "      <td>1</td>\n",
       "      <td>5</td>\n",
       "      <td>1</td>\n",
       "      <td>5</td>\n",
       "      <td>1</td>\n",
       "      <td>2</td>\n",
       "      <td>2</td>\n",
       "      <td>1</td>\n",
       "      <td>1</td>\n",
       "      <td>...</td>\n",
       "      <td>0.0</td>\n",
       "      <td>5.0</td>\n",
       "      <td>5.0</td>\n",
       "      <td>1.0</td>\n",
       "      <td>2.0</td>\n",
       "      <td>1.0</td>\n",
       "      <td>2</td>\n",
       "      <td>0</td>\n",
       "      <td>1.0</td>\n",
       "      <td>3.0</td>\n",
       "    </tr>\n",
       "    <tr>\n",
       "      <th>2</th>\n",
       "      <td>4</td>\n",
       "      <td>2</td>\n",
       "      <td>5</td>\n",
       "      <td>1</td>\n",
       "      <td>5</td>\n",
       "      <td>1</td>\n",
       "      <td>4</td>\n",
       "      <td>4</td>\n",
       "      <td>1</td>\n",
       "      <td>2</td>\n",
       "      <td>...</td>\n",
       "      <td>1.0</td>\n",
       "      <td>3.0</td>\n",
       "      <td>2.0</td>\n",
       "      <td>3.0</td>\n",
       "      <td>5.0</td>\n",
       "      <td>3.0</td>\n",
       "      <td>2</td>\n",
       "      <td>0</td>\n",
       "      <td>3.0</td>\n",
       "      <td>4.0</td>\n",
       "    </tr>\n",
       "    <tr>\n",
       "      <th>3</th>\n",
       "      <td>4</td>\n",
       "      <td>1</td>\n",
       "      <td>5</td>\n",
       "      <td>1</td>\n",
       "      <td>5</td>\n",
       "      <td>2</td>\n",
       "      <td>1</td>\n",
       "      <td>2</td>\n",
       "      <td>0</td>\n",
       "      <td>2</td>\n",
       "      <td>...</td>\n",
       "      <td>0.0</td>\n",
       "      <td>3.0</td>\n",
       "      <td>4.0</td>\n",
       "      <td>1.0</td>\n",
       "      <td>3.0</td>\n",
       "      <td>1.0</td>\n",
       "      <td>1</td>\n",
       "      <td>1</td>\n",
       "      <td>2.0</td>\n",
       "      <td>4.0</td>\n",
       "    </tr>\n",
       "    <tr>\n",
       "      <th>4</th>\n",
       "      <td>3</td>\n",
       "      <td>1</td>\n",
       "      <td>3</td>\n",
       "      <td>1</td>\n",
       "      <td>4</td>\n",
       "      <td>4</td>\n",
       "      <td>5</td>\n",
       "      <td>2</td>\n",
       "      <td>0</td>\n",
       "      <td>3</td>\n",
       "      <td>...</td>\n",
       "      <td>1.0</td>\n",
       "      <td>3.0</td>\n",
       "      <td>3.0</td>\n",
       "      <td>3.0</td>\n",
       "      <td>5.0</td>\n",
       "      <td>1.0</td>\n",
       "      <td>4</td>\n",
       "      <td>1</td>\n",
       "      <td>4.0</td>\n",
       "      <td>1.0</td>\n",
       "    </tr>\n",
       "    <tr>\n",
       "      <th>5</th>\n",
       "      <td>3</td>\n",
       "      <td>1</td>\n",
       "      <td>5</td>\n",
       "      <td>1</td>\n",
       "      <td>5</td>\n",
       "      <td>1</td>\n",
       "      <td>2</td>\n",
       "      <td>3</td>\n",
       "      <td>1</td>\n",
       "      <td>3</td>\n",
       "      <td>...</td>\n",
       "      <td>1.0</td>\n",
       "      <td>5.0</td>\n",
       "      <td>5.0</td>\n",
       "      <td>3.0</td>\n",
       "      <td>7.0</td>\n",
       "      <td>5.0</td>\n",
       "      <td>2</td>\n",
       "      <td>0</td>\n",
       "      <td>3.0</td>\n",
       "      <td>4.0</td>\n",
       "    </tr>\n",
       "  </tbody>\n",
       "</table>\n",
       "<p>5 rows × 63 columns</p>\n",
       "</div>"
      ],
      "text/plain": [
       "   ALTERSKATEGORIE_GROB  ANREDE_KZ  FINANZ_MINIMALIST  FINANZ_SPARER  \\\n",
       "0                     4          1                  5              1   \n",
       "2                     4          2                  5              1   \n",
       "3                     4          1                  5              1   \n",
       "4                     3          1                  3              1   \n",
       "5                     3          1                  5              1   \n",
       "\n",
       "   FINANZ_VORSORGER  FINANZ_ANLEGER  FINANZ_UNAUFFAELLIGER  FINANZ_HAUSBAUER  \\\n",
       "0                 5               1                      2                 2   \n",
       "2                 5               1                      4                 4   \n",
       "3                 5               2                      1                 2   \n",
       "4                 4               4                      5                 2   \n",
       "5                 5               1                      2                 3   \n",
       "\n",
       "   GREEN_AVANTGARDE  HEALTH_TYP     ...      PLZ8_ANTG4  PLZ8_HHZ  PLZ8_GBZ  \\\n",
       "0                 1           1     ...             0.0       5.0       5.0   \n",
       "2                 1           2     ...             1.0       3.0       2.0   \n",
       "3                 0           2     ...             0.0       3.0       4.0   \n",
       "4                 0           3     ...             1.0       3.0       3.0   \n",
       "5                 1           3     ...             1.0       5.0       5.0   \n",
       "\n",
       "   ARBEIT  ORTSGR_KLS9  RELAT_AB  GENERATION  MOVEMENT  WEALTH  LIFE_STAGE  \n",
       "0     1.0          2.0       1.0           2         0     1.0         3.0  \n",
       "2     3.0          5.0       3.0           2         0     3.0         4.0  \n",
       "3     1.0          3.0       1.0           1         1     2.0         4.0  \n",
       "4     3.0          5.0       1.0           4         1     4.0         1.0  \n",
       "5     3.0          7.0       5.0           2         0     3.0         4.0  \n",
       "\n",
       "[5 rows x 63 columns]"
      ]
     },
     "execution_count": 64,
     "metadata": {},
     "output_type": "execute_result"
    }
   ],
   "source": [
    "customers_new.head()"
   ]
  },
  {
   "cell_type": "code",
   "execution_count": 65,
   "metadata": {
    "scrolled": true
   },
   "outputs": [],
   "source": [
    "# preprocessing\n",
    "\n",
    "customers_clean = pd.DataFrame(cln_data.transform(customers_new))\n",
    "customers_clean.columns = customers_new.columns\n",
    "customers_clean.index = customers_new.index"
   ]
  },
  {
   "cell_type": "code",
   "execution_count": 66,
   "metadata": {},
   "outputs": [
    {
     "data": {
      "text/plain": [
       "0"
      ]
     },
     "execution_count": 66,
     "metadata": {},
     "output_type": "execute_result"
    }
   ],
   "source": [
    "customers_clean.isnull().sum().sum()"
   ]
  },
  {
   "cell_type": "code",
   "execution_count": 67,
   "metadata": {},
   "outputs": [],
   "source": [
    "# feature transformation\n",
    "\n",
    "customers_scaled = scaler.transform(customers_clean)\n",
    "customers_scaled = pd.DataFrame(customers_scaled, columns=list(customers_clean))"
   ]
  },
  {
   "cell_type": "code",
   "execution_count": 68,
   "metadata": {},
   "outputs": [],
   "source": [
    "# predictions\n",
    "\n",
    "customers_pca = pca_retain.transform(customers_scaled)\n",
    "customers_pred = model.predict(customers_pca)"
   ]
  },
  {
   "cell_type": "markdown",
   "metadata": {},
   "source": [
    "### Step 3.3: Compare Customer Data to Demographics Data\n",
    "\n",
    "At this point, you have clustered data based on demographics of the general population of Germany, and seen how the customer data for a mail-order sales company maps onto those demographic clusters. In this final substep, you will compare the two cluster distributions to see where the strongest customer base for the company is.\n",
    "\n",
    "Consider the proportion of persons in each cluster for the general population, and the proportions for the customers. If we think the company's customer base to be universal, then the cluster assignment proportions should be fairly similar between the two. If there are only particular segments of the population that are interested in the company's products, then we should see a mismatch from one to the other. If there is a higher proportion of persons in a cluster for the customer data compared to the general population (e.g. 5% of persons are assigned to a cluster for the general population, but 15% of the customer data is closest to that cluster's centroid) then that suggests the people in that cluster to be a target audience for the company. On the other hand, the proportion of the data in a cluster being larger in the general population than the customer data (e.g. only 2% of customers closest to a population centroid that captures 6% of the data) suggests that group of persons to be outside of the target demographics.\n",
    "\n",
    "Take a look at the following points in this step:\n",
    "\n",
    "- Compute the proportion of data points in each cluster for the general population and the customer data. Visualizations will be useful here: both for the individual dataset proportions, but also to visualize the ratios in cluster representation between groups. Seaborn's [`countplot()`](https://seaborn.pydata.org/generated/seaborn.countplot.html) or [`barplot()`](https://seaborn.pydata.org/generated/seaborn.barplot.html) function could be handy.\n",
    "  - Recall the analysis you performed in step 1.1.3 of the project, where you separated out certain data points from the dataset if they had more than a specified threshold of missing values. If you found that this group was qualitatively different from the main bulk of the data, you should treat this as an additional data cluster in this analysis. Make sure that you account for the number of data points in this subset, for both the general population and customer datasets, when making your computations!\n",
    "- Which cluster or clusters are overrepresented in the customer dataset compared to the general population? Select at least one such cluster and infer what kind of people might be represented by that cluster. Use the principal component interpretations from step 2.3 or look at additional components to help you make this inference. Alternatively, you can use the `.inverse_transform()` method of the PCA and StandardScaler objects to transform centroids back to the original data space and interpret the retrieved values directly.\n",
    "- Perform a similar investigation for the underrepresented clusters. Which cluster or clusters are underrepresented in the customer dataset compared to the general population, and what kinds of people are typified by these clusters?"
   ]
  },
  {
   "cell_type": "code",
   "execution_count": 69,
   "metadata": {},
   "outputs": [
    {
     "data": {
      "text/plain": [
       "Text(0.5,1,'General Population')"
      ]
     },
     "execution_count": 69,
     "metadata": {},
     "output_type": "execute_result"
    },
    {
     "data": {
      "image/png": "[encoded data removed]",
      "text/plain": [
       "<matplotlib.figure.Figure at 0x7f32363b2dd8>"
      ]
     },
     "metadata": {
      "needs_background": "light"
     },
     "output_type": "display_data"
    }
   ],
   "source": [
    "# Compare the proportion of data in each cluster for the customer data to the\n",
    "# proportion of data in each cluster for the general population.\n",
    "\n",
    "figure, ax = plt.subplots(nrows=1, ncols=2, figsize = (20,5))\n",
    "#figure.subplots_adjust(hspace = 1, wspace=.3)\n",
    "\n",
    "sns.countplot(customers_pred, ax=ax[0])\n",
    "ax[0].set_title('Customer Data')\n",
    "sns.countplot(azdias_pred, ax=ax[1])\n",
    "ax[1].set_title('General Population')"
   ]
  },
  {
   "cell_type": "code",
   "execution_count": 72,
   "metadata": {},
   "outputs": [],
   "source": [
    "# What kinds of people are part of a cluster that is overrepresented in the\n",
    "# customer data compared to the general population?\n",
    "\n",
    "cluster_16 = scaler.inverse_transform(pca_retain.inverse_transform(model.cluster_centers_[16]))"
   ]
  },
  {
   "cell_type": "code",
   "execution_count": 73,
   "metadata": {},
   "outputs": [
    {
     "data": {
      "text/plain": [
       "ALTERSKATEGORIE_GROB        3.255792\n",
       "ANREDE_KZ                   1.070075\n",
       "FINANZ_MINIMALIST           4.835369\n",
       "FINANZ_SPARER               1.549746\n",
       "FINANZ_VORSORGER            4.277605\n",
       "FINANZ_ANLEGER              1.413787\n",
       "FINANZ_UNAUFFAELLIGER       2.151676\n",
       "FINANZ_HAUSBAUER            1.962431\n",
       "GREEN_AVANTGARDE            0.959752\n",
       "HEALTH_TYP                  2.020324\n",
       "RETOURTYP_BK_S              3.862265\n",
       "SEMIO_SOZ                   5.336624\n",
       "SEMIO_FAM                   4.815863\n",
       "SEMIO_REL                   3.701500\n",
       "SEMIO_MAT                   3.710582\n",
       "SEMIO_VERT                  6.261206\n",
       "SEMIO_LUST                  5.166858\n",
       "SEMIO_ERL                   4.087396\n",
       "SEMIO_KULT                  4.822321\n",
       "SEMIO_RAT                   2.669354\n",
       "SEMIO_KRIT                  3.204127\n",
       "SEMIO_DOM                   3.296891\n",
       "SEMIO_KAEM                  2.689963\n",
       "SEMIO_PFLICHT               3.239833\n",
       "SEMIO_TRADV                 3.159101\n",
       "SOHO_KZ                    -0.000257\n",
       "ANZ_PERSONEN                2.217496\n",
       "ANZ_TITEL                  -0.001187\n",
       "HH_EINKOMMEN_SCORE          2.350838\n",
       "W_KEIT_KIND_HH              4.329467\n",
       "                            ...     \n",
       "KONSUMNAEHE                 3.323440\n",
       "MIN_GEBAEUDEJAHR         1993.188864\n",
       "OST_WEST_KZ                 0.090928\n",
       "KBA05_ANTG1                 2.655086\n",
       "KBA05_ANTG2                 1.109321\n",
       "KBA05_ANTG3                 0.057918\n",
       "KBA05_ANTG4                -0.014283\n",
       "KBA05_GBZ                   4.107485\n",
       "BALLRAUM                    3.959510\n",
       "EWDICHTE                    4.003513\n",
       "INNENSTADT                  4.568324\n",
       "GEBAEUDETYP_RASTER          3.901950\n",
       "KKK                         2.125750\n",
       "MOBI_REGIO                  4.067326\n",
       "ONLINE_AFFINITAET           3.149637\n",
       "REGIOTYP                    3.527884\n",
       "KBA13_ANZAHL_PKW          702.453440\n",
       "PLZ8_ANTG1                  2.762860\n",
       "PLZ8_ANTG2                  2.579108\n",
       "PLZ8_ANTG3                  1.194412\n",
       "PLZ8_ANTG4                  0.381205\n",
       "PLZ8_HHZ                    3.712874\n",
       "PLZ8_GBZ                    3.905748\n",
       "ARBEIT                      3.046959\n",
       "ORTSGR_KLS9                 5.412301\n",
       "RELAT_AB                    3.003542\n",
       "GENERATION                  3.493644\n",
       "MOVEMENT                    0.040248\n",
       "WEALTH                      2.067490\n",
       "LIFE_STAGE                  3.541335\n",
       "Length: 63, dtype: float64"
      ]
     },
     "execution_count": 73,
     "metadata": {},
     "output_type": "execute_result"
    }
   ],
   "source": [
    "cluster_overrepresented = pd.Series(data = cluster_16, index = customers_clean.columns)\n",
    "cluster_overrepresented"
   ]
  },
  {
   "cell_type": "code",
   "execution_count": 74,
   "metadata": {},
   "outputs": [],
   "source": [
    "# What kinds of people are part of a cluster that is underrepresented in the\n",
    "# customer data compared to the general population?\n",
    "\n",
    "cluster_5 = scaler.inverse_transform(pca_retain.inverse_transform(model.cluster_centers_[5]))"
   ]
  },
  {
   "cell_type": "code",
   "execution_count": 75,
   "metadata": {},
   "outputs": [
    {
     "data": {
      "text/plain": [
       "ALTERSKATEGORIE_GROB        1.840098\n",
       "ANREDE_KZ                   0.949007\n",
       "FINANZ_MINIMALIST           1.874984\n",
       "FINANZ_SPARER               4.420121\n",
       "FINANZ_VORSORGER            2.079616\n",
       "FINANZ_ANLEGER              3.626499\n",
       "FINANZ_UNAUFFAELLIGER       3.819885\n",
       "FINANZ_HAUSBAUER            3.621475\n",
       "GREEN_AVANTGARDE            0.137229\n",
       "HEALTH_TYP                  2.401278\n",
       "RETOURTYP_BK_S              2.807272\n",
       "SEMIO_SOZ                   6.420366\n",
       "SEMIO_FAM                   6.778790\n",
       "SEMIO_REL                   6.384640\n",
       "SEMIO_MAT                   5.202670\n",
       "SEMIO_VERT                  6.029041\n",
       "SEMIO_LUST                  3.090320\n",
       "SEMIO_ERL                   2.165008\n",
       "SEMIO_KULT                  6.926222\n",
       "SEMIO_RAT                   4.127409\n",
       "SEMIO_KRIT                  2.743220\n",
       "SEMIO_DOM                   2.829833\n",
       "SEMIO_KAEM                  2.377979\n",
       "SEMIO_PFLICHT               5.670654\n",
       "SEMIO_TRADV                 4.849727\n",
       "SOHO_KZ                     0.000217\n",
       "ANZ_PERSONEN                1.444666\n",
       "ANZ_TITEL                   0.002205\n",
       "HH_EINKOMMEN_SCORE          5.503607\n",
       "W_KEIT_KIND_HH              4.542258\n",
       "                            ...     \n",
       "KONSUMNAEHE                 2.131412\n",
       "MIN_GEBAEUDEJAHR         1992.461362\n",
       "OST_WEST_KZ                 0.300178\n",
       "KBA05_ANTG1                 0.371008\n",
       "KBA05_ANTG2                 1.391993\n",
       "KBA05_ANTG3                 1.231804\n",
       "KBA05_ANTG4                 0.542063\n",
       "KBA05_GBZ                   2.213172\n",
       "BALLRAUM                    3.260549\n",
       "EWDICHTE                    5.073363\n",
       "INNENSTADT                  3.428941\n",
       "GEBAEUDETYP_RASTER          3.417060\n",
       "KKK                         2.908934\n",
       "MOBI_REGIO                  1.765606\n",
       "ONLINE_AFFINITAET           3.050932\n",
       "REGIOTYP                    4.979912\n",
       "KBA13_ANZAHL_PKW          526.449861\n",
       "PLZ8_ANTG1                  1.460061\n",
       "PLZ8_ANTG2                  3.353219\n",
       "PLZ8_ANTG3                  2.421540\n",
       "PLZ8_ANTG4                  1.243172\n",
       "PLZ8_HHZ                    3.733688\n",
       "PLZ8_GBZ                    2.720046\n",
       "ARBEIT                      3.707082\n",
       "ORTSGR_KLS9                 6.867391\n",
       "RELAT_AB                    3.736797\n",
       "GENERATION                  5.783782\n",
       "MOVEMENT                    0.862771\n",
       "WEALTH                      4.375388\n",
       "LIFE_STAGE                  2.055022\n",
       "Length: 63, dtype: float64"
      ]
     },
     "execution_count": 75,
     "metadata": {},
     "output_type": "execute_result"
    }
   ],
   "source": [
    "cluster_underrepresented = pd.Series(data = cluster_5, index = customers_clean.columns)\n",
    "cluster_underrepresented"
   ]
  },
  {
   "cell_type": "markdown",
   "metadata": {},
   "source": [
    "### Discussion 3.3: Compare Customer Data to Demographics Data\n",
    "\n",
    "From the clustering analysis, Cluster 16 is over represented in the customer data when compared to the demographics data. The customer segments of the population that are relatively popular with the company have the following charactersitics:\n",
    "\n",
    "- They are of comfortable households\n",
    "- They live in areas with less families of 6 to 10 members\n",
    "\n",
    "Cluster 5 is underrepresented in the customer data when compared to the demographics data and are relatively unpopular with the following characteristics:\n",
    "\n",
    "- They are of relatively poorer households\n",
    "- They live in areas with more families of 6 to 10 members"
   ]
  },
  {
   "cell_type": "markdown",
   "metadata": {},
   "source": [
    "> Congratulations on making it this far in the project! Before you finish, make sure to check through the entire notebook from top to bottom to make sure that your analysis follows a logical flow and all of your findings are documented in **Discussion** cells. Once you've checked over all of your work, you should export the notebook as an HTML document to submit for evaluation. You can do this from the menu, navigating to **File -> Download as -> HTML (.html)**. You will submit both that document and this notebook for your project submission."
   ]
  },
  {
   "cell_type": "code",
   "execution_count": null,
   "metadata": {},
   "outputs": [],
   "source": []
  }
 ],
 "metadata": {
  "kernelspec": {
   "display_name": "Python 3",
   "language": "python",
   "name": "python3"
  },
  "language_info": {
   "codemirror_mode": {
    "name": "ipython",
    "version": 3
   },
   "file_extension": ".py",
   "mimetype": "text/x-python",
   "name": "python",
   "nbconvert_exporter": "python",
   "pygments_lexer": "ipython3",
   "version": "3.6.3"
  }
 },
 "nbformat": 4,
 "nbformat_minor": 2
}
